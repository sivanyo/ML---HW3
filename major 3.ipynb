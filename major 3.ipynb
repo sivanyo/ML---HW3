{
  "nbformat": 4,
  "nbformat_minor": 0,
  "metadata": {
    "colab": {
      "name": "ML - 3 (V1).ipynb",
      "provenance": [],
      "collapsed_sections": []
    },
    "kernelspec": {
      "name": "python3",
      "display_name": "Python 3"
    },
    "language_info": {
      "name": "python"
    }
  },
  "cells": [
    {
      "cell_type": "code",
      "metadata": {
        "id": "W2Yn7RLFi4Nh"
      },
      "source": [
        "import numpy as np\n",
        "import pandas as pd\n",
        "import matplotlib.pyplot as plt\n",
        "import seaborn as sns\n",
        "from google.colab import files"
      ],
      "execution_count": 1,
      "outputs": []
    },
    {
      "cell_type": "markdown",
      "metadata": {
        "id": "mfAs6aPijL0q"
      },
      "source": [
        "# Section 1: Quick data exploration and preparation"
      ]
    },
    {
      "cell_type": "code",
      "metadata": {
        "id": "FgXs7Kf-jVFL",
        "colab": {
          "base_uri": "https://localhost:8080/",
          "height": 439
        },
        "outputId": "1be9fe75-17fe-4075-9f2a-e6b018c98449"
      },
      "source": [
        "df_raw = pd.read_csv('https://raw.githubusercontent.com/sivanyo/ML-HW3/main/variant_labeled.csv')\n",
        "df_raw"
      ],
      "execution_count": 2,
      "outputs": [
        {
          "output_type": "execute_result",
          "data": {
            "text/html": [
              "<div>\n",
              "<style scoped>\n",
              "    .dataframe tbody tr th:only-of-type {\n",
              "        vertical-align: middle;\n",
              "    }\n",
              "\n",
              "    .dataframe tbody tr th {\n",
              "        vertical-align: top;\n",
              "    }\n",
              "\n",
              "    .dataframe thead th {\n",
              "        text-align: right;\n",
              "    }\n",
              "</style>\n",
              "<table border=\"1\" class=\"dataframe\">\n",
              "  <thead>\n",
              "    <tr style=\"text-align: right;\">\n",
              "      <th></th>\n",
              "      <th>ID</th>\n",
              "      <th>AgeGroup</th>\n",
              "      <th>BMI</th>\n",
              "      <th>BloodType</th>\n",
              "      <th>ConversatiosPerDay</th>\n",
              "      <th>DisciplineScore</th>\n",
              "      <th>HappinessScore</th>\n",
              "      <th>HouseholdExpenseOnPresents</th>\n",
              "      <th>HouseholdExpenseOnSocialGames</th>\n",
              "      <th>HouseholdExpenseParkingTicketsPerYear</th>\n",
              "      <th>MedicalCarePerYear</th>\n",
              "      <th>NrCousins</th>\n",
              "      <th>PCR_10</th>\n",
              "      <th>PCR_17</th>\n",
              "      <th>PCR_19</th>\n",
              "      <th>PCR_32</th>\n",
              "      <th>PCR_45</th>\n",
              "      <th>PCR_46</th>\n",
              "      <th>PCR_7</th>\n",
              "      <th>PCR_72</th>\n",
              "      <th>PCR_76</th>\n",
              "      <th>PCR_8</th>\n",
              "      <th>PCR_83</th>\n",
              "      <th>PCR_89</th>\n",
              "      <th>PCR_9</th>\n",
              "      <th>PCR_93</th>\n",
              "      <th>PCR_95</th>\n",
              "      <th>Sex</th>\n",
              "      <th>SocialActivitiesPerDay</th>\n",
              "      <th>SocialMediaPerDay</th>\n",
              "      <th>SportsPerDay</th>\n",
              "      <th>StepsPerYear</th>\n",
              "      <th>StudingPerDay</th>\n",
              "      <th>VariantScore</th>\n",
              "    </tr>\n",
              "  </thead>\n",
              "  <tbody>\n",
              "    <tr>\n",
              "      <th>0</th>\n",
              "      <td>4615</td>\n",
              "      <td>4.0</td>\n",
              "      <td>15.75</td>\n",
              "      <td>B+</td>\n",
              "      <td>14.0</td>\n",
              "      <td>60.0</td>\n",
              "      <td>6.0</td>\n",
              "      <td>1325.72</td>\n",
              "      <td>496.17</td>\n",
              "      <td>911.74</td>\n",
              "      <td>27.0</td>\n",
              "      <td>4.0</td>\n",
              "      <td>1.799896</td>\n",
              "      <td>1.444451</td>\n",
              "      <td>NaN</td>\n",
              "      <td>-1.571850</td>\n",
              "      <td>0.801410</td>\n",
              "      <td>1.917945</td>\n",
              "      <td>1.690213</td>\n",
              "      <td>-0.171748</td>\n",
              "      <td>-1.523529</td>\n",
              "      <td>-0.306861</td>\n",
              "      <td>0.565910</td>\n",
              "      <td>0.438831</td>\n",
              "      <td>1.367438</td>\n",
              "      <td>-2.249516</td>\n",
              "      <td>2.218356</td>\n",
              "      <td>F</td>\n",
              "      <td>84.97</td>\n",
              "      <td>70.48</td>\n",
              "      <td>42.48</td>\n",
              "      <td>4.0</td>\n",
              "      <td>9.1</td>\n",
              "      <td>0.425317</td>\n",
              "    </tr>\n",
              "    <tr>\n",
              "      <th>1</th>\n",
              "      <td>1680</td>\n",
              "      <td>7.0</td>\n",
              "      <td>20.11</td>\n",
              "      <td>AB-</td>\n",
              "      <td>9.0</td>\n",
              "      <td>6.0</td>\n",
              "      <td>4.0</td>\n",
              "      <td>645.69</td>\n",
              "      <td>695.10</td>\n",
              "      <td>496.95</td>\n",
              "      <td>29.0</td>\n",
              "      <td>7.0</td>\n",
              "      <td>0.868056</td>\n",
              "      <td>-0.307865</td>\n",
              "      <td>0.653187</td>\n",
              "      <td>0.798339</td>\n",
              "      <td>-0.593106</td>\n",
              "      <td>-0.988938</td>\n",
              "      <td>-0.222645</td>\n",
              "      <td>-0.046236</td>\n",
              "      <td>0.356250</td>\n",
              "      <td>-0.609497</td>\n",
              "      <td>-0.483010</td>\n",
              "      <td>NaN</td>\n",
              "      <td>NaN</td>\n",
              "      <td>NaN</td>\n",
              "      <td>2.049281</td>\n",
              "      <td>M</td>\n",
              "      <td>NaN</td>\n",
              "      <td>127.93</td>\n",
              "      <td>52.20</td>\n",
              "      <td>7.0</td>\n",
              "      <td>4.9</td>\n",
              "      <td>0.571545</td>\n",
              "    </tr>\n",
              "    <tr>\n",
              "      <th>2</th>\n",
              "      <td>8866</td>\n",
              "      <td>5.0</td>\n",
              "      <td>19.44</td>\n",
              "      <td>NaN</td>\n",
              "      <td>11.0</td>\n",
              "      <td>4.0</td>\n",
              "      <td>5.0</td>\n",
              "      <td>1010.76</td>\n",
              "      <td>381.79</td>\n",
              "      <td>223.02</td>\n",
              "      <td>19.0</td>\n",
              "      <td>5.0</td>\n",
              "      <td>2.170466</td>\n",
              "      <td>1.061738</td>\n",
              "      <td>1.024312</td>\n",
              "      <td>-0.913777</td>\n",
              "      <td>1.737937</td>\n",
              "      <td>1.216280</td>\n",
              "      <td>-0.181298</td>\n",
              "      <td>0.334038</td>\n",
              "      <td>1.968806</td>\n",
              "      <td>0.718268</td>\n",
              "      <td>1.666072</td>\n",
              "      <td>5.971252</td>\n",
              "      <td>0.828838</td>\n",
              "      <td>0.488605</td>\n",
              "      <td>3.330753</td>\n",
              "      <td>M</td>\n",
              "      <td>73.88</td>\n",
              "      <td>143.13</td>\n",
              "      <td>36.94</td>\n",
              "      <td>5.0</td>\n",
              "      <td>NaN</td>\n",
              "      <td>0.629826</td>\n",
              "    </tr>\n",
              "    <tr>\n",
              "      <th>3</th>\n",
              "      <td>7525</td>\n",
              "      <td>5.0</td>\n",
              "      <td>24.57</td>\n",
              "      <td>AB-</td>\n",
              "      <td>13.0</td>\n",
              "      <td>7.0</td>\n",
              "      <td>5.0</td>\n",
              "      <td>1214.76</td>\n",
              "      <td>565.30</td>\n",
              "      <td>501.88</td>\n",
              "      <td>37.0</td>\n",
              "      <td>5.0</td>\n",
              "      <td>NaN</td>\n",
              "      <td>1.227796</td>\n",
              "      <td>-3.617988</td>\n",
              "      <td>NaN</td>\n",
              "      <td>2.537677</td>\n",
              "      <td>1.491512</td>\n",
              "      <td>-0.385241</td>\n",
              "      <td>0.541629</td>\n",
              "      <td>3.384428</td>\n",
              "      <td>1.107271</td>\n",
              "      <td>2.475159</td>\n",
              "      <td>2.229985</td>\n",
              "      <td>0.379172</td>\n",
              "      <td>1.232192</td>\n",
              "      <td>-1.624955</td>\n",
              "      <td>M</td>\n",
              "      <td>92.58</td>\n",
              "      <td>188.29</td>\n",
              "      <td>46.29</td>\n",
              "      <td>5.0</td>\n",
              "      <td>NaN</td>\n",
              "      <td>0.795983</td>\n",
              "    </tr>\n",
              "    <tr>\n",
              "      <th>4</th>\n",
              "      <td>5389</td>\n",
              "      <td>1.0</td>\n",
              "      <td>19.30</td>\n",
              "      <td>B-</td>\n",
              "      <td>14.0</td>\n",
              "      <td>7.0</td>\n",
              "      <td>6.0</td>\n",
              "      <td>1393.30</td>\n",
              "      <td>273.82</td>\n",
              "      <td>78.91</td>\n",
              "      <td>33.0</td>\n",
              "      <td>1.0</td>\n",
              "      <td>1.334839</td>\n",
              "      <td>2.626946</td>\n",
              "      <td>-0.512107</td>\n",
              "      <td>-0.429517</td>\n",
              "      <td>1.132747</td>\n",
              "      <td>0.596860</td>\n",
              "      <td>0.225130</td>\n",
              "      <td>NaN</td>\n",
              "      <td>1.634172</td>\n",
              "      <td>2.799492</td>\n",
              "      <td>1.115116</td>\n",
              "      <td>8.482129</td>\n",
              "      <td>0.070619</td>\n",
              "      <td>NaN</td>\n",
              "      <td>0.288845</td>\n",
              "      <td>M</td>\n",
              "      <td>62.97</td>\n",
              "      <td>104.86</td>\n",
              "      <td>31.48</td>\n",
              "      <td>1.0</td>\n",
              "      <td>0.8</td>\n",
              "      <td>0.522616</td>\n",
              "    </tr>\n",
              "    <tr>\n",
              "      <th>...</th>\n",
              "      <td>...</td>\n",
              "      <td>...</td>\n",
              "      <td>...</td>\n",
              "      <td>...</td>\n",
              "      <td>...</td>\n",
              "      <td>...</td>\n",
              "      <td>...</td>\n",
              "      <td>...</td>\n",
              "      <td>...</td>\n",
              "      <td>...</td>\n",
              "      <td>...</td>\n",
              "      <td>...</td>\n",
              "      <td>...</td>\n",
              "      <td>...</td>\n",
              "      <td>...</td>\n",
              "      <td>...</td>\n",
              "      <td>...</td>\n",
              "      <td>...</td>\n",
              "      <td>...</td>\n",
              "      <td>...</td>\n",
              "      <td>...</td>\n",
              "      <td>...</td>\n",
              "      <td>...</td>\n",
              "      <td>...</td>\n",
              "      <td>...</td>\n",
              "      <td>...</td>\n",
              "      <td>...</td>\n",
              "      <td>...</td>\n",
              "      <td>...</td>\n",
              "      <td>...</td>\n",
              "      <td>...</td>\n",
              "      <td>...</td>\n",
              "      <td>...</td>\n",
              "      <td>...</td>\n",
              "    </tr>\n",
              "    <tr>\n",
              "      <th>3995</th>\n",
              "      <td>5990</td>\n",
              "      <td>7.0</td>\n",
              "      <td>14.97</td>\n",
              "      <td>B-</td>\n",
              "      <td>11.0</td>\n",
              "      <td>5.0</td>\n",
              "      <td>NaN</td>\n",
              "      <td>983.31</td>\n",
              "      <td>NaN</td>\n",
              "      <td>434.72</td>\n",
              "      <td>21.0</td>\n",
              "      <td>7.0</td>\n",
              "      <td>NaN</td>\n",
              "      <td>-0.253909</td>\n",
              "      <td>-0.270558</td>\n",
              "      <td>-0.919249</td>\n",
              "      <td>1.064866</td>\n",
              "      <td>1.169131</td>\n",
              "      <td>NaN</td>\n",
              "      <td>0.972605</td>\n",
              "      <td>0.446860</td>\n",
              "      <td>NaN</td>\n",
              "      <td>0.957624</td>\n",
              "      <td>-1.087838</td>\n",
              "      <td>2.020739</td>\n",
              "      <td>NaN</td>\n",
              "      <td>2.679240</td>\n",
              "      <td>F</td>\n",
              "      <td>49.16</td>\n",
              "      <td>47.66</td>\n",
              "      <td>24.58</td>\n",
              "      <td>7.0</td>\n",
              "      <td>4.3</td>\n",
              "      <td>0.399925</td>\n",
              "    </tr>\n",
              "    <tr>\n",
              "      <th>3996</th>\n",
              "      <td>1692</td>\n",
              "      <td>3.0</td>\n",
              "      <td>18.19</td>\n",
              "      <td>AB-</td>\n",
              "      <td>4.0</td>\n",
              "      <td>7.0</td>\n",
              "      <td>2.0</td>\n",
              "      <td>0.00</td>\n",
              "      <td>421.28</td>\n",
              "      <td>387.49</td>\n",
              "      <td>35.0</td>\n",
              "      <td>3.0</td>\n",
              "      <td>2.454104</td>\n",
              "      <td>0.686208</td>\n",
              "      <td>-0.333063</td>\n",
              "      <td>0.293203</td>\n",
              "      <td>NaN</td>\n",
              "      <td>-0.444101</td>\n",
              "      <td>1.469979</td>\n",
              "      <td>-1.048626</td>\n",
              "      <td>-2.148641</td>\n",
              "      <td>-1.193288</td>\n",
              "      <td>NaN</td>\n",
              "      <td>-0.608159</td>\n",
              "      <td>0.863015</td>\n",
              "      <td>-1.111373</td>\n",
              "      <td>4.238641</td>\n",
              "      <td>M</td>\n",
              "      <td>77.75</td>\n",
              "      <td>74.12</td>\n",
              "      <td>38.87</td>\n",
              "      <td>3.0</td>\n",
              "      <td>3.7</td>\n",
              "      <td>0.882143</td>\n",
              "    </tr>\n",
              "    <tr>\n",
              "      <th>3997</th>\n",
              "      <td>9645</td>\n",
              "      <td>3.0</td>\n",
              "      <td>20.87</td>\n",
              "      <td>O-</td>\n",
              "      <td>NaN</td>\n",
              "      <td>5.0</td>\n",
              "      <td>8.0</td>\n",
              "      <td>2306.34</td>\n",
              "      <td>749.77</td>\n",
              "      <td>828.14</td>\n",
              "      <td>22.0</td>\n",
              "      <td>3.0</td>\n",
              "      <td>NaN</td>\n",
              "      <td>-0.062680</td>\n",
              "      <td>2.179080</td>\n",
              "      <td>-0.072817</td>\n",
              "      <td>0.046779</td>\n",
              "      <td>0.089618</td>\n",
              "      <td>0.653738</td>\n",
              "      <td>1.059357</td>\n",
              "      <td>-0.048917</td>\n",
              "      <td>-0.375866</td>\n",
              "      <td>0.036363</td>\n",
              "      <td>0.590578</td>\n",
              "      <td>1.296997</td>\n",
              "      <td>-0.090578</td>\n",
              "      <td>1.167840</td>\n",
              "      <td>F</td>\n",
              "      <td>110.02</td>\n",
              "      <td>142.88</td>\n",
              "      <td>55.01</td>\n",
              "      <td>3.0</td>\n",
              "      <td>8.3</td>\n",
              "      <td>0.573354</td>\n",
              "    </tr>\n",
              "    <tr>\n",
              "      <th>3998</th>\n",
              "      <td>11577</td>\n",
              "      <td>NaN</td>\n",
              "      <td>NaN</td>\n",
              "      <td>O+</td>\n",
              "      <td>10.0</td>\n",
              "      <td>6.0</td>\n",
              "      <td>4.0</td>\n",
              "      <td>889.36</td>\n",
              "      <td>658.45</td>\n",
              "      <td>0.00</td>\n",
              "      <td>29.0</td>\n",
              "      <td>NaN</td>\n",
              "      <td>0.674347</td>\n",
              "      <td>-0.922378</td>\n",
              "      <td>0.516568</td>\n",
              "      <td>1.877120</td>\n",
              "      <td>-1.784768</td>\n",
              "      <td>-2.356349</td>\n",
              "      <td>-0.992826</td>\n",
              "      <td>-0.668789</td>\n",
              "      <td>-0.037991</td>\n",
              "      <td>-0.947073</td>\n",
              "      <td>-1.545852</td>\n",
              "      <td>-0.057274</td>\n",
              "      <td>-0.391903</td>\n",
              "      <td>1.517528</td>\n",
              "      <td>2.548608</td>\n",
              "      <td>M</td>\n",
              "      <td>100.52</td>\n",
              "      <td>96.73</td>\n",
              "      <td>50.26</td>\n",
              "      <td>NaN</td>\n",
              "      <td>0.1</td>\n",
              "      <td>0.522282</td>\n",
              "    </tr>\n",
              "    <tr>\n",
              "      <th>3999</th>\n",
              "      <td>5314</td>\n",
              "      <td>2.0</td>\n",
              "      <td>20.42</td>\n",
              "      <td>NaN</td>\n",
              "      <td>14.0</td>\n",
              "      <td>5.0</td>\n",
              "      <td>6.0</td>\n",
              "      <td>1421.30</td>\n",
              "      <td>NaN</td>\n",
              "      <td>470.20</td>\n",
              "      <td>NaN</td>\n",
              "      <td>2.0</td>\n",
              "      <td>0.695836</td>\n",
              "      <td>-0.776705</td>\n",
              "      <td>0.236815</td>\n",
              "      <td>-649.413585</td>\n",
              "      <td>-0.331212</td>\n",
              "      <td>NaN</td>\n",
              "      <td>-1.013898</td>\n",
              "      <td>-1.722365</td>\n",
              "      <td>-2.115697</td>\n",
              "      <td>-0.694600</td>\n",
              "      <td>-0.462374</td>\n",
              "      <td>-0.068817</td>\n",
              "      <td>-1.384773</td>\n",
              "      <td>-1.864690</td>\n",
              "      <td>2.628037</td>\n",
              "      <td>M</td>\n",
              "      <td>115.79</td>\n",
              "      <td>140.90</td>\n",
              "      <td>57.90</td>\n",
              "      <td>2.0</td>\n",
              "      <td>4.8</td>\n",
              "      <td>0.783145</td>\n",
              "    </tr>\n",
              "  </tbody>\n",
              "</table>\n",
              "<p>4000 rows × 34 columns</p>\n",
              "</div>"
            ],
            "text/plain": [
              "         ID  AgeGroup    BMI  ... StepsPerYear  StudingPerDay  VariantScore\n",
              "0      4615       4.0  15.75  ...          4.0            9.1      0.425317\n",
              "1      1680       7.0  20.11  ...          7.0            4.9      0.571545\n",
              "2      8866       5.0  19.44  ...          5.0            NaN      0.629826\n",
              "3      7525       5.0  24.57  ...          5.0            NaN      0.795983\n",
              "4      5389       1.0  19.30  ...          1.0            0.8      0.522616\n",
              "...     ...       ...    ...  ...          ...            ...           ...\n",
              "3995   5990       7.0  14.97  ...          7.0            4.3      0.399925\n",
              "3996   1692       3.0  18.19  ...          3.0            3.7      0.882143\n",
              "3997   9645       3.0  20.87  ...          3.0            8.3      0.573354\n",
              "3998  11577       NaN    NaN  ...          NaN            0.1      0.522282\n",
              "3999   5314       2.0  20.42  ...          2.0            4.8      0.783145\n",
              "\n",
              "[4000 rows x 34 columns]"
            ]
          },
          "metadata": {
            "tags": []
          },
          "execution_count": 2
        }
      ]
    },
    {
      "cell_type": "markdown",
      "metadata": {
        "id": "3ZntwtbcjiMw"
      },
      "source": [
        "**Q1**"
      ]
    },
    {
      "cell_type": "code",
      "metadata": {
        "id": "Y3r3TYVdjkR5"
      },
      "source": [
        "from sklearn.model_selection import train_test_split\n",
        "train, test = train_test_split(df_raw, test_size=0.2, random_state=12)\n",
        "\n",
        "# we are going to modify slices of dataset so pandas see it as 'SettingWithCopyWarning'. those msg are not relevant and annoying so...\n",
        "pd.options.mode.chained_assignment = None  # default='warn'"
      ],
      "execution_count": 3,
      "outputs": []
    },
    {
      "cell_type": "markdown",
      "metadata": {
        "id": "lmG_IgBfj62e"
      },
      "source": [
        "**Q2**"
      ]
    },
    {
      "cell_type": "code",
      "metadata": {
        "id": "czAnb3smj8Ns",
        "colab": {
          "base_uri": "https://localhost:8080/",
          "height": 296
        },
        "outputId": "90ed9e42-509d-4e1d-8e15-3ccdc8ac2232"
      },
      "source": [
        "# dont know what to do - sex is categorial \n",
        "tmp = train.Sex.apply(lambda x: 1 if x=='M' else 0)  # we know there are no NaN vals in this col\n",
        "sns.kdeplot(data=tmp)"
      ],
      "execution_count": 4,
      "outputs": [
        {
          "output_type": "execute_result",
          "data": {
            "text/plain": [
              "<matplotlib.axes._subplots.AxesSubplot at 0x7f61259d5410>"
            ]
          },
          "metadata": {
            "tags": []
          },
          "execution_count": 4
        },
        {
          "output_type": "display_data",
          "data": {
            "image/png": "[encoded data removed]",
            "text/plain": [
              "<Figure size 432x288 with 1 Axes>"
            ]
          },
          "metadata": {
            "tags": [],
            "needs_background": "light"
          }
        }
      ]
    },
    {
      "cell_type": "markdown",
      "metadata": {
        "id": "Yp-NtNtBkwJP"
      },
      "source": [
        "**Q3**"
      ]
    },
    {
      "cell_type": "code",
      "metadata": {
        "colab": {
          "base_uri": "https://localhost:8080/",
          "height": 527
        },
        "id": "i0ZMm9u5kvjF",
        "outputId": "c7f76922-2de6-4143-d692-a3a231926962"
      },
      "source": [
        "g = sns.FacetGrid(train, col=\"BloodType\", height=3.5, aspect=.65, col_wrap=4)\n",
        "g.map(sns.kdeplot, \"VariantScore\")\n",
        "g.set_titles(col_template=\"{col_name}\", size=18)\n",
        "g.set_xlabels(size=18)\n",
        "for ax in g.axes:\n",
        " ax.grid(alpha=0.5)"
      ],
      "execution_count": 5,
      "outputs": [
        {
          "output_type": "display_data",
          "data": {
            "image/png": "[encoded data removed]",
            "text/plain": [
              "<Figure size 655.2x504 with 8 Axes>"
            ]
          },
          "metadata": {
            "tags": [],
            "needs_background": "light"
          }
        }
      ]
    },
    {
      "cell_type": "markdown",
      "metadata": {
        "id": "nWDzhghi3I4o"
      },
      "source": [
        "# Preprocessing (data preparation)\n"
      ]
    },
    {
      "cell_type": "code",
      "metadata": {
        "id": "W_7owdhLch0g"
      },
      "source": [
        "def category_to_numeric(df):\n",
        "  normal_dist = ['O+', 'O-', 'B+', 'B-']\n",
        "  df['BloodType'] = df.BloodType.astype(str)\n",
        "  df['BloodType'] = df['BloodType'].apply(lambda x : 0 if x in normal_dist else 1)\n",
        "  df['BloodType'] = df.BloodType.astype(float)\n",
        "  df['Sex'] = df['Sex'].apply(lambda x : 1 if x=='M' else 0)\n",
        "\n",
        "category_to_numeric(train)\n",
        "category_to_numeric(test)"
      ],
      "execution_count": 6,
      "outputs": []
    },
    {
      "cell_type": "code",
      "metadata": {
        "colab": {
          "base_uri": "https://localhost:8080/",
          "height": 789
        },
        "id": "S4-xflj_jjeE",
        "outputId": "8c3f236b-0c63-4153-83ed-cb264b71c9bc"
      },
      "source": [
        "train.corr()\n",
        "corr = train.corr()\n",
        "kot = corr[corr>=.9]\n",
        "plt.figure(figsize=(15,10))\n",
        "sns.heatmap(kot, cmap=\"Greens\")\n",
        "plt.show()"
      ],
      "execution_count": 7,
      "outputs": [
        {
          "output_type": "display_data",
          "data": {
            "image/png": "[encoded data removed]",
            "text/plain": [
              "<Figure size 1080x720 with 2 Axes>"
            ]
          },
          "metadata": {
            "tags": [],
            "needs_background": "light"
          }
        }
      ]
    },
    {
      "cell_type": "code",
      "metadata": {
        "id": "p_GcZ4NGhTmB"
      },
      "source": [
        "def remove_corr_feat(df):\n",
        "  df.drop('NrCousins', axis=1, inplace=True)\n",
        "  df.drop('StepsPerYear', axis=1, inplace=True)\n",
        "  df.drop('HouseholdExpenseParkingTicketsPerYear', axis=1, inplace=True)\n",
        "  df.drop('HouseholdExpenseOnSocialGames', axis=1, inplace=True)\n",
        "  # df.drop('HouseholdExpenseOnPresents', axis=1, inplace=True)\n",
        "\n",
        "remove_corr_feat(train)\n",
        "remove_corr_feat(test)"
      ],
      "execution_count": 8,
      "outputs": []
    },
    {
      "cell_type": "code",
      "metadata": {
        "id": "ZH6dy4O15no4"
      },
      "source": [
        "# this df will use us for the data preparation of the final test\n",
        "ppt = pd.DataFrame(columns = ['mean', 'median', 'max', 'min', 'high outlier', 'low outlier'])\n",
        "for col in train.columns.to_list()[1:-1]:\n",
        "  ppt.loc[col] = [train[col].mean(),train[col].median(),0,0,0,0]\n",
        "# ppt"
      ],
      "execution_count": 9,
      "outputs": []
    },
    {
      "cell_type": "code",
      "metadata": {
        "id": "chVJgPE7_QwS"
      },
      "source": [
        "# outliers and fillna\n",
        "\n",
        "alpha_all = 3.5\n",
        "alpha_for_pcr = 5\n",
        "\n",
        "for col in train.columns.to_list()[1:-1]:\n",
        "  q1 = train[col].quantile(0.25)\n",
        "  q3 = train[col].quantile(0.75)\n",
        "  iqr = q3-q1 \n",
        "  current_alpha = alpha_all\n",
        "  if 'PCR_' in col:\n",
        "    current_alpha = alpha_for_pcr\n",
        "  fence_low  = q1-current_alpha*iqr\n",
        "  if 'PCR_' not in col and fence_low < 0:\n",
        "    fence_low = 0\n",
        "  fence_high = q3+current_alpha*iqr\n",
        "  ppt.at[col, 'low outlier'] = fence_low\n",
        "  ppt.at[col, 'high outlier'] = fence_high\n",
        "\n",
        "ppt.at['AgeGroup', 'low outlier'] = 0  # manually set this 3 cols\n",
        "ppt.at['AgeGroup', 'high outlier'] = 9\n",
        "ppt.at['HappinessScore', 'low outlier'] = 1\n",
        "ppt.at['HappinessScore', 'high outlier'] = 10\n",
        "ppt.at['DisciplineScore', 'low outlier'] = 1\n",
        "ppt.at['DisciplineScore', 'high outlier'] = 10\n",
        "\n",
        "\n",
        "def fill_outliers(df):\n",
        "  for col in train.columns.to_list()[1:-1]:\n",
        "    m = ppt.at[col, 'median']\n",
        "    fence_low = ppt.at[col, 'low outlier']\n",
        "    fence_high = ppt.at[col, 'high outlier']\n",
        "    df[col] = df[col].apply(lambda row: m if (pd.isnull(row) or row < fence_low or row > fence_high) else row)\n",
        "\n",
        "\n",
        "fill_outliers(train)\n",
        "fill_outliers(test)"
      ],
      "execution_count": 10,
      "outputs": []
    },
    {
      "cell_type": "code",
      "metadata": {
        "id": "F1Ime8TxEvLV"
      },
      "source": [
        "#normalization\n",
        "for col in train.columns.to_list()[1:-1]:\n",
        "  ppt.at[col, 'max'] = train[col].max()\n",
        "  ppt.at[col, 'min'] = train[col].min()\n",
        "\n",
        "\n",
        "def normalize(df):\n",
        "  for col in train.columns[1:-1]:\n",
        "    min = ppt.at[col, 'min']\n",
        "    max = ppt.at[col, 'max']\n",
        "    df[col] =  df[col].apply(lambda row: (row-min)/(max-min))\n",
        "\n",
        "\n",
        "normalize(train)\n",
        "normalize(test)"
      ],
      "execution_count": 11,
      "outputs": []
    },
    {
      "cell_type": "code",
      "metadata": {
        "id": "A_rcjH-5GJ06",
        "colab": {
          "base_uri": "https://localhost:8080/",
          "height": 917
        },
        "outputId": "0dfdc952-e404-43e7-eead-bfc7d0eaf6fc"
      },
      "source": [
        "def preprocessing_data(df):\n",
        "  category_to_numeric(df)\n",
        "  remove_corr_feat(df)\n",
        "  fill_outliers(df)\n",
        "  normalize(df)\n",
        "\n",
        "  \n",
        "ppt"
      ],
      "execution_count": 12,
      "outputs": [
        {
          "output_type": "execute_result",
          "data": {
            "text/html": [
              "<div>\n",
              "<style scoped>\n",
              "    .dataframe tbody tr th:only-of-type {\n",
              "        vertical-align: middle;\n",
              "    }\n",
              "\n",
              "    .dataframe tbody tr th {\n",
              "        vertical-align: top;\n",
              "    }\n",
              "\n",
              "    .dataframe thead th {\n",
              "        text-align: right;\n",
              "    }\n",
              "</style>\n",
              "<table border=\"1\" class=\"dataframe\">\n",
              "  <thead>\n",
              "    <tr style=\"text-align: right;\">\n",
              "      <th></th>\n",
              "      <th>mean</th>\n",
              "      <th>median</th>\n",
              "      <th>max</th>\n",
              "      <th>min</th>\n",
              "      <th>high outlier</th>\n",
              "      <th>low outlier</th>\n",
              "    </tr>\n",
              "  </thead>\n",
              "  <tbody>\n",
              "    <tr>\n",
              "      <th>AgeGroup</th>\n",
              "      <td>4.734311</td>\n",
              "      <td>5.000000</td>\n",
              "      <td>9.000000</td>\n",
              "      <td>0.000000</td>\n",
              "      <td>9.000000</td>\n",
              "      <td>0.000000</td>\n",
              "    </tr>\n",
              "    <tr>\n",
              "      <th>BMI</th>\n",
              "      <td>21.992280</td>\n",
              "      <td>19.610000</td>\n",
              "      <td>25.700000</td>\n",
              "      <td>13.330000</td>\n",
              "      <td>29.311250</td>\n",
              "      <td>9.931250</td>\n",
              "    </tr>\n",
              "    <tr>\n",
              "      <th>BloodType</th>\n",
              "      <td>0.545000</td>\n",
              "      <td>1.000000</td>\n",
              "      <td>1.000000</td>\n",
              "      <td>0.000000</td>\n",
              "      <td>4.500000</td>\n",
              "      <td>0.000000</td>\n",
              "    </tr>\n",
              "    <tr>\n",
              "      <th>ConversatiosPerDay</th>\n",
              "      <td>12.643379</td>\n",
              "      <td>13.000000</td>\n",
              "      <td>25.000000</td>\n",
              "      <td>0.000000</td>\n",
              "      <td>32.500000</td>\n",
              "      <td>0.000000</td>\n",
              "    </tr>\n",
              "    <tr>\n",
              "      <th>DisciplineScore</th>\n",
              "      <td>5.810820</td>\n",
              "      <td>5.000000</td>\n",
              "      <td>10.000000</td>\n",
              "      <td>1.000000</td>\n",
              "      <td>10.000000</td>\n",
              "      <td>1.000000</td>\n",
              "    </tr>\n",
              "    <tr>\n",
              "      <th>HappinessScore</th>\n",
              "      <td>5.301571</td>\n",
              "      <td>5.000000</td>\n",
              "      <td>10.000000</td>\n",
              "      <td>1.000000</td>\n",
              "      <td>10.000000</td>\n",
              "      <td>1.000000</td>\n",
              "    </tr>\n",
              "    <tr>\n",
              "      <th>HouseholdExpenseOnPresents</th>\n",
              "      <td>1200.606471</td>\n",
              "      <td>1186.825000</td>\n",
              "      <td>3013.920000</td>\n",
              "      <td>0.000000</td>\n",
              "      <td>3913.821250</td>\n",
              "      <td>0.000000</td>\n",
              "    </tr>\n",
              "    <tr>\n",
              "      <th>MedicalCarePerYear</th>\n",
              "      <td>25.892536</td>\n",
              "      <td>26.000000</td>\n",
              "      <td>52.000000</td>\n",
              "      <td>3.000000</td>\n",
              "      <td>66.000000</td>\n",
              "      <td>0.000000</td>\n",
              "    </tr>\n",
              "    <tr>\n",
              "      <th>PCR_10</th>\n",
              "      <td>12.832753</td>\n",
              "      <td>1.260134</td>\n",
              "      <td>8.166143</td>\n",
              "      <td>-2.552057</td>\n",
              "      <td>8.277083</td>\n",
              "      <td>-5.805121</td>\n",
              "    </tr>\n",
              "    <tr>\n",
              "      <th>PCR_17</th>\n",
              "      <td>6.443575</td>\n",
              "      <td>0.170190</td>\n",
              "      <td>8.770000</td>\n",
              "      <td>-2.512492</td>\n",
              "      <td>8.897190</td>\n",
              "      <td>-8.462466</td>\n",
              "    </tr>\n",
              "    <tr>\n",
              "      <th>PCR_19</th>\n",
              "      <td>-0.239186</td>\n",
              "      <td>-0.426392</td>\n",
              "      <td>4.866949</td>\n",
              "      <td>-5.707998</td>\n",
              "      <td>13.457114</td>\n",
              "      <td>-14.037444</td>\n",
              "    </tr>\n",
              "    <tr>\n",
              "      <th>PCR_32</th>\n",
              "      <td>-3.992712</td>\n",
              "      <td>-0.008270</td>\n",
              "      <td>4.871752</td>\n",
              "      <td>-2.913185</td>\n",
              "      <td>6.622802</td>\n",
              "      <td>-6.888125</td>\n",
              "    </tr>\n",
              "    <tr>\n",
              "      <th>PCR_45</th>\n",
              "      <td>-1.286568</td>\n",
              "      <td>0.130236</td>\n",
              "      <td>3.897165</td>\n",
              "      <td>-5.016451</td>\n",
              "      <td>11.588335</td>\n",
              "      <td>-11.585567</td>\n",
              "    </tr>\n",
              "    <tr>\n",
              "      <th>PCR_46</th>\n",
              "      <td>6.136717</td>\n",
              "      <td>0.002837</td>\n",
              "      <td>3.584268</td>\n",
              "      <td>-6.103440</td>\n",
              "      <td>8.998201</td>\n",
              "      <td>-8.696274</td>\n",
              "    </tr>\n",
              "    <tr>\n",
              "      <th>PCR_7</th>\n",
              "      <td>-0.012772</td>\n",
              "      <td>-0.028819</td>\n",
              "      <td>2.240322</td>\n",
              "      <td>-2.223731</td>\n",
              "      <td>3.827448</td>\n",
              "      <td>-3.848671</td>\n",
              "    </tr>\n",
              "    <tr>\n",
              "      <th>PCR_72</th>\n",
              "      <td>0.577563</td>\n",
              "      <td>0.435305</td>\n",
              "      <td>6.431551</td>\n",
              "      <td>-2.272597</td>\n",
              "      <td>6.675261</td>\n",
              "      <td>-5.730164</td>\n",
              "    </tr>\n",
              "    <tr>\n",
              "      <th>PCR_76</th>\n",
              "      <td>0.285374</td>\n",
              "      <td>0.152106</td>\n",
              "      <td>5.166297</td>\n",
              "      <td>-8.520580</td>\n",
              "      <td>11.710389</td>\n",
              "      <td>-11.339991</td>\n",
              "    </tr>\n",
              "    <tr>\n",
              "      <th>PCR_8</th>\n",
              "      <td>-7.743149</td>\n",
              "      <td>-0.705086</td>\n",
              "      <td>9.134108</td>\n",
              "      <td>-3.990385</td>\n",
              "      <td>9.660343</td>\n",
              "      <td>-10.757928</td>\n",
              "    </tr>\n",
              "    <tr>\n",
              "      <th>PCR_83</th>\n",
              "      <td>0.704267</td>\n",
              "      <td>0.110789</td>\n",
              "      <td>3.720617</td>\n",
              "      <td>-5.045197</td>\n",
              "      <td>10.733173</td>\n",
              "      <td>-10.711584</td>\n",
              "    </tr>\n",
              "    <tr>\n",
              "      <th>PCR_89</th>\n",
              "      <td>1.518396</td>\n",
              "      <td>0.859037</td>\n",
              "      <td>17.061294</td>\n",
              "      <td>-5.143300</td>\n",
              "      <td>17.756139</td>\n",
              "      <td>-15.366280</td>\n",
              "    </tr>\n",
              "    <tr>\n",
              "      <th>PCR_9</th>\n",
              "      <td>12.170879</td>\n",
              "      <td>0.953726</td>\n",
              "      <td>9.018451</td>\n",
              "      <td>-2.457718</td>\n",
              "      <td>10.215038</td>\n",
              "      <td>-8.132379</td>\n",
              "    </tr>\n",
              "    <tr>\n",
              "      <th>PCR_93</th>\n",
              "      <td>1.672628</td>\n",
              "      <td>0.225581</td>\n",
              "      <td>4.152543</td>\n",
              "      <td>-5.067153</td>\n",
              "      <td>11.353780</td>\n",
              "      <td>-11.328599</td>\n",
              "    </tr>\n",
              "    <tr>\n",
              "      <th>PCR_95</th>\n",
              "      <td>2.189623</td>\n",
              "      <td>2.475439</td>\n",
              "      <td>8.671072</td>\n",
              "      <td>-4.602142</td>\n",
              "      <td>14.917743</td>\n",
              "      <td>-10.122857</td>\n",
              "    </tr>\n",
              "    <tr>\n",
              "      <th>Sex</th>\n",
              "      <td>0.504375</td>\n",
              "      <td>1.000000</td>\n",
              "      <td>1.000000</td>\n",
              "      <td>0.000000</td>\n",
              "      <td>4.500000</td>\n",
              "      <td>0.000000</td>\n",
              "    </tr>\n",
              "    <tr>\n",
              "      <th>SocialActivitiesPerDay</th>\n",
              "      <td>100.587600</td>\n",
              "      <td>76.240000</td>\n",
              "      <td>149.700000</td>\n",
              "      <td>0.000000</td>\n",
              "      <td>184.482500</td>\n",
              "      <td>0.000000</td>\n",
              "    </tr>\n",
              "    <tr>\n",
              "      <th>SocialMediaPerDay</th>\n",
              "      <td>179.727063</td>\n",
              "      <td>120.910000</td>\n",
              "      <td>257.340000</td>\n",
              "      <td>1.790000</td>\n",
              "      <td>318.467500</td>\n",
              "      <td>0.000000</td>\n",
              "    </tr>\n",
              "    <tr>\n",
              "      <th>SportsPerDay</th>\n",
              "      <td>37.858394</td>\n",
              "      <td>37.790000</td>\n",
              "      <td>74.850000</td>\n",
              "      <td>0.000000</td>\n",
              "      <td>90.227500</td>\n",
              "      <td>0.000000</td>\n",
              "    </tr>\n",
              "    <tr>\n",
              "      <th>StudingPerDay</th>\n",
              "      <td>5.968150</td>\n",
              "      <td>5.900000</td>\n",
              "      <td>12.000000</td>\n",
              "      <td>0.000000</td>\n",
              "      <td>30.450000</td>\n",
              "      <td>0.000000</td>\n",
              "    </tr>\n",
              "  </tbody>\n",
              "</table>\n",
              "</div>"
            ],
            "text/plain": [
              "                                   mean       median  ...  high outlier  low outlier\n",
              "AgeGroup                       4.734311     5.000000  ...      9.000000     0.000000\n",
              "BMI                           21.992280    19.610000  ...     29.311250     9.931250\n",
              "BloodType                      0.545000     1.000000  ...      4.500000     0.000000\n",
              "ConversatiosPerDay            12.643379    13.000000  ...     32.500000     0.000000\n",
              "DisciplineScore                5.810820     5.000000  ...     10.000000     1.000000\n",
              "HappinessScore                 5.301571     5.000000  ...     10.000000     1.000000\n",
              "HouseholdExpenseOnPresents  1200.606471  1186.825000  ...   3913.821250     0.000000\n",
              "MedicalCarePerYear            25.892536    26.000000  ...     66.000000     0.000000\n",
              "PCR_10                        12.832753     1.260134  ...      8.277083    -5.805121\n",
              "PCR_17                         6.443575     0.170190  ...      8.897190    -8.462466\n",
              "PCR_19                        -0.239186    -0.426392  ...     13.457114   -14.037444\n",
              "PCR_32                        -3.992712    -0.008270  ...      6.622802    -6.888125\n",
              "PCR_45                        -1.286568     0.130236  ...     11.588335   -11.585567\n",
              "PCR_46                         6.136717     0.002837  ...      8.998201    -8.696274\n",
              "PCR_7                         -0.012772    -0.028819  ...      3.827448    -3.848671\n",
              "PCR_72                         0.577563     0.435305  ...      6.675261    -5.730164\n",
              "PCR_76                         0.285374     0.152106  ...     11.710389   -11.339991\n",
              "PCR_8                         -7.743149    -0.705086  ...      9.660343   -10.757928\n",
              "PCR_83                         0.704267     0.110789  ...     10.733173   -10.711584\n",
              "PCR_89                         1.518396     0.859037  ...     17.756139   -15.366280\n",
              "PCR_9                         12.170879     0.953726  ...     10.215038    -8.132379\n",
              "PCR_93                         1.672628     0.225581  ...     11.353780   -11.328599\n",
              "PCR_95                         2.189623     2.475439  ...     14.917743   -10.122857\n",
              "Sex                            0.504375     1.000000  ...      4.500000     0.000000\n",
              "SocialActivitiesPerDay       100.587600    76.240000  ...    184.482500     0.000000\n",
              "SocialMediaPerDay            179.727063   120.910000  ...    318.467500     0.000000\n",
              "SportsPerDay                  37.858394    37.790000  ...     90.227500     0.000000\n",
              "StudingPerDay                  5.968150     5.900000  ...     30.450000     0.000000\n",
              "\n",
              "[28 rows x 6 columns]"
            ]
          },
          "metadata": {
            "tags": []
          },
          "execution_count": 12
        }
      ]
    },
    {
      "cell_type": "code",
      "metadata": {
        "colab": {
          "base_uri": "https://localhost:8080/",
          "height": 558
        },
        "id": "5HkOLeh_iaVK",
        "outputId": "b681cfa6-3202-4e72-92bf-1364b6d74353"
      },
      "source": [
        "print(train.columns)\n",
        "train"
      ],
      "execution_count": 13,
      "outputs": [
        {
          "output_type": "stream",
          "text": [
            "Index(['ID', 'AgeGroup', 'BMI', 'BloodType', 'ConversatiosPerDay',\n",
            "       'DisciplineScore', 'HappinessScore', 'HouseholdExpenseOnPresents',\n",
            "       'MedicalCarePerYear', 'PCR_10', 'PCR_17', 'PCR_19', 'PCR_32', 'PCR_45',\n",
            "       'PCR_46', 'PCR_7', 'PCR_72', 'PCR_76', 'PCR_8', 'PCR_83', 'PCR_89',\n",
            "       'PCR_9', 'PCR_93', 'PCR_95', 'Sex', 'SocialActivitiesPerDay',\n",
            "       'SocialMediaPerDay', 'SportsPerDay', 'StudingPerDay', 'VariantScore'],\n",
            "      dtype='object')\n"
          ],
          "name": "stdout"
        },
        {
          "output_type": "execute_result",
          "data": {
            "text/html": [
              "<div>\n",
              "<style scoped>\n",
              "    .dataframe tbody tr th:only-of-type {\n",
              "        vertical-align: middle;\n",
              "    }\n",
              "\n",
              "    .dataframe tbody tr th {\n",
              "        vertical-align: top;\n",
              "    }\n",
              "\n",
              "    .dataframe thead th {\n",
              "        text-align: right;\n",
              "    }\n",
              "</style>\n",
              "<table border=\"1\" class=\"dataframe\">\n",
              "  <thead>\n",
              "    <tr style=\"text-align: right;\">\n",
              "      <th></th>\n",
              "      <th>ID</th>\n",
              "      <th>AgeGroup</th>\n",
              "      <th>BMI</th>\n",
              "      <th>BloodType</th>\n",
              "      <th>ConversatiosPerDay</th>\n",
              "      <th>DisciplineScore</th>\n",
              "      <th>HappinessScore</th>\n",
              "      <th>HouseholdExpenseOnPresents</th>\n",
              "      <th>MedicalCarePerYear</th>\n",
              "      <th>PCR_10</th>\n",
              "      <th>PCR_17</th>\n",
              "      <th>PCR_19</th>\n",
              "      <th>PCR_32</th>\n",
              "      <th>PCR_45</th>\n",
              "      <th>PCR_46</th>\n",
              "      <th>PCR_7</th>\n",
              "      <th>PCR_72</th>\n",
              "      <th>PCR_76</th>\n",
              "      <th>PCR_8</th>\n",
              "      <th>PCR_83</th>\n",
              "      <th>PCR_89</th>\n",
              "      <th>PCR_9</th>\n",
              "      <th>PCR_93</th>\n",
              "      <th>PCR_95</th>\n",
              "      <th>Sex</th>\n",
              "      <th>SocialActivitiesPerDay</th>\n",
              "      <th>SocialMediaPerDay</th>\n",
              "      <th>SportsPerDay</th>\n",
              "      <th>StudingPerDay</th>\n",
              "      <th>VariantScore</th>\n",
              "    </tr>\n",
              "  </thead>\n",
              "  <tbody>\n",
              "    <tr>\n",
              "      <th>3655</th>\n",
              "      <td>12503</td>\n",
              "      <td>0.555556</td>\n",
              "      <td>0.334681</td>\n",
              "      <td>0.0</td>\n",
              "      <td>0.68</td>\n",
              "      <td>0.333333</td>\n",
              "      <td>0.666667</td>\n",
              "      <td>0.596220</td>\n",
              "      <td>0.306122</td>\n",
              "      <td>0.437285</td>\n",
              "      <td>0.295305</td>\n",
              "      <td>0.627460</td>\n",
              "      <td>0.374012</td>\n",
              "      <td>0.577396</td>\n",
              "      <td>0.635908</td>\n",
              "      <td>0.473646</td>\n",
              "      <td>0.340479</td>\n",
              "      <td>0.736045</td>\n",
              "      <td>0.324188</td>\n",
              "      <td>0.658713</td>\n",
              "      <td>0.458128</td>\n",
              "      <td>0.327803</td>\n",
              "      <td>0.574068</td>\n",
              "      <td>0.606723</td>\n",
              "      <td>1.0</td>\n",
              "      <td>0.571810</td>\n",
              "      <td>0.236314</td>\n",
              "      <td>0.504876</td>\n",
              "      <td>0.400000</td>\n",
              "      <td>0.479114</td>\n",
              "    </tr>\n",
              "    <tr>\n",
              "      <th>1251</th>\n",
              "      <td>11511</td>\n",
              "      <td>0.555556</td>\n",
              "      <td>0.458367</td>\n",
              "      <td>1.0</td>\n",
              "      <td>0.76</td>\n",
              "      <td>0.333333</td>\n",
              "      <td>0.666667</td>\n",
              "      <td>0.712537</td>\n",
              "      <td>0.346939</td>\n",
              "      <td>0.355675</td>\n",
              "      <td>0.229622</td>\n",
              "      <td>0.435006</td>\n",
              "      <td>0.725517</td>\n",
              "      <td>0.281992</td>\n",
              "      <td>0.276439</td>\n",
              "      <td>0.670758</td>\n",
              "      <td>0.558339</td>\n",
              "      <td>0.634474</td>\n",
              "      <td>0.111858</td>\n",
              "      <td>0.330305</td>\n",
              "      <td>0.226643</td>\n",
              "      <td>0.615045</td>\n",
              "      <td>0.804344</td>\n",
              "      <td>0.739404</td>\n",
              "      <td>1.0</td>\n",
              "      <td>0.254375</td>\n",
              "      <td>0.466132</td>\n",
              "      <td>0.254375</td>\n",
              "      <td>0.491667</td>\n",
              "      <td>0.606691</td>\n",
              "    </tr>\n",
              "    <tr>\n",
              "      <th>1699</th>\n",
              "      <td>10251</td>\n",
              "      <td>0.666667</td>\n",
              "      <td>0.640259</td>\n",
              "      <td>0.0</td>\n",
              "      <td>0.36</td>\n",
              "      <td>0.333333</td>\n",
              "      <td>0.333333</td>\n",
              "      <td>0.393781</td>\n",
              "      <td>0.306122</td>\n",
              "      <td>0.465733</td>\n",
              "      <td>0.239003</td>\n",
              "      <td>0.441072</td>\n",
              "      <td>0.347690</td>\n",
              "      <td>0.540982</td>\n",
              "      <td>0.653557</td>\n",
              "      <td>0.596254</td>\n",
              "      <td>0.365049</td>\n",
              "      <td>0.558798</td>\n",
              "      <td>0.164601</td>\n",
              "      <td>0.548107</td>\n",
              "      <td>0.250662</td>\n",
              "      <td>0.446923</td>\n",
              "      <td>0.471669</td>\n",
              "      <td>0.717755</td>\n",
              "      <td>0.0</td>\n",
              "      <td>0.509285</td>\n",
              "      <td>0.629622</td>\n",
              "      <td>0.494589</td>\n",
              "      <td>0.708333</td>\n",
              "      <td>0.449764</td>\n",
              "    </tr>\n",
              "    <tr>\n",
              "      <th>457</th>\n",
              "      <td>11080</td>\n",
              "      <td>0.777778</td>\n",
              "      <td>0.507680</td>\n",
              "      <td>1.0</td>\n",
              "      <td>0.52</td>\n",
              "      <td>0.444444</td>\n",
              "      <td>0.666667</td>\n",
              "      <td>0.538777</td>\n",
              "      <td>0.448980</td>\n",
              "      <td>0.324723</td>\n",
              "      <td>0.237774</td>\n",
              "      <td>0.744662</td>\n",
              "      <td>0.391732</td>\n",
              "      <td>0.478820</td>\n",
              "      <td>0.607255</td>\n",
              "      <td>0.491686</td>\n",
              "      <td>0.374341</td>\n",
              "      <td>0.633650</td>\n",
              "      <td>0.158677</td>\n",
              "      <td>0.488544</td>\n",
              "      <td>0.125967</td>\n",
              "      <td>0.353391</td>\n",
              "      <td>0.466795</td>\n",
              "      <td>0.533405</td>\n",
              "      <td>1.0</td>\n",
              "      <td>0.463260</td>\n",
              "      <td>0.517472</td>\n",
              "      <td>0.463193</td>\n",
              "      <td>0.491667</td>\n",
              "      <td>0.551932</td>\n",
              "    </tr>\n",
              "    <tr>\n",
              "      <th>3832</th>\n",
              "      <td>14781</td>\n",
              "      <td>0.666667</td>\n",
              "      <td>0.391269</td>\n",
              "      <td>0.0</td>\n",
              "      <td>0.60</td>\n",
              "      <td>0.555556</td>\n",
              "      <td>0.555556</td>\n",
              "      <td>0.488908</td>\n",
              "      <td>0.510204</td>\n",
              "      <td>0.373463</td>\n",
              "      <td>0.215616</td>\n",
              "      <td>0.308720</td>\n",
              "      <td>0.726317</td>\n",
              "      <td>0.282646</td>\n",
              "      <td>0.275729</td>\n",
              "      <td>0.438292</td>\n",
              "      <td>0.407444</td>\n",
              "      <td>0.636392</td>\n",
              "      <td>0.250318</td>\n",
              "      <td>0.588192</td>\n",
              "      <td>0.225656</td>\n",
              "      <td>0.297263</td>\n",
              "      <td>0.806691</td>\n",
              "      <td>0.614600</td>\n",
              "      <td>0.0</td>\n",
              "      <td>0.826319</td>\n",
              "      <td>0.466132</td>\n",
              "      <td>0.826319</td>\n",
              "      <td>0.491667</td>\n",
              "      <td>0.454876</td>\n",
              "    </tr>\n",
              "    <tr>\n",
              "      <th>...</th>\n",
              "      <td>...</td>\n",
              "      <td>...</td>\n",
              "      <td>...</td>\n",
              "      <td>...</td>\n",
              "      <td>...</td>\n",
              "      <td>...</td>\n",
              "      <td>...</td>\n",
              "      <td>...</td>\n",
              "      <td>...</td>\n",
              "      <td>...</td>\n",
              "      <td>...</td>\n",
              "      <td>...</td>\n",
              "      <td>...</td>\n",
              "      <td>...</td>\n",
              "      <td>...</td>\n",
              "      <td>...</td>\n",
              "      <td>...</td>\n",
              "      <td>...</td>\n",
              "      <td>...</td>\n",
              "      <td>...</td>\n",
              "      <td>...</td>\n",
              "      <td>...</td>\n",
              "      <td>...</td>\n",
              "      <td>...</td>\n",
              "      <td>...</td>\n",
              "      <td>...</td>\n",
              "      <td>...</td>\n",
              "      <td>...</td>\n",
              "      <td>...</td>\n",
              "      <td>...</td>\n",
              "    </tr>\n",
              "    <tr>\n",
              "      <th>3313</th>\n",
              "      <td>11085</td>\n",
              "      <td>0.333333</td>\n",
              "      <td>0.368634</td>\n",
              "      <td>1.0</td>\n",
              "      <td>0.92</td>\n",
              "      <td>0.444444</td>\n",
              "      <td>0.888889</td>\n",
              "      <td>0.879356</td>\n",
              "      <td>0.387755</td>\n",
              "      <td>0.510014</td>\n",
              "      <td>0.206116</td>\n",
              "      <td>0.438091</td>\n",
              "      <td>0.422422</td>\n",
              "      <td>0.363293</td>\n",
              "      <td>0.569699</td>\n",
              "      <td>0.591732</td>\n",
              "      <td>0.733349</td>\n",
              "      <td>0.388951</td>\n",
              "      <td>0.071919</td>\n",
              "      <td>0.369857</td>\n",
              "      <td>0.257113</td>\n",
              "      <td>0.751272</td>\n",
              "      <td>0.364812</td>\n",
              "      <td>0.533223</td>\n",
              "      <td>1.0</td>\n",
              "      <td>0.574415</td>\n",
              "      <td>0.344238</td>\n",
              "      <td>0.574349</td>\n",
              "      <td>0.941667</td>\n",
              "      <td>0.534842</td>\n",
              "    </tr>\n",
              "    <tr>\n",
              "      <th>3325</th>\n",
              "      <td>451</td>\n",
              "      <td>0.555556</td>\n",
              "      <td>0.507680</td>\n",
              "      <td>1.0</td>\n",
              "      <td>0.52</td>\n",
              "      <td>0.333333</td>\n",
              "      <td>0.444444</td>\n",
              "      <td>0.310911</td>\n",
              "      <td>0.469388</td>\n",
              "      <td>0.355675</td>\n",
              "      <td>0.116636</td>\n",
              "      <td>0.735224</td>\n",
              "      <td>0.461763</td>\n",
              "      <td>0.502841</td>\n",
              "      <td>0.542634</td>\n",
              "      <td>0.559652</td>\n",
              "      <td>0.433216</td>\n",
              "      <td>0.640180</td>\n",
              "      <td>0.155038</td>\n",
              "      <td>0.525160</td>\n",
              "      <td>0.136906</td>\n",
              "      <td>0.395932</td>\n",
              "      <td>0.626792</td>\n",
              "      <td>0.529661</td>\n",
              "      <td>0.0</td>\n",
              "      <td>0.364195</td>\n",
              "      <td>0.295989</td>\n",
              "      <td>0.364195</td>\n",
              "      <td>0.641667</td>\n",
              "      <td>0.524035</td>\n",
              "    </tr>\n",
              "    <tr>\n",
              "      <th>1414</th>\n",
              "      <td>1496</td>\n",
              "      <td>0.666667</td>\n",
              "      <td>0.561035</td>\n",
              "      <td>1.0</td>\n",
              "      <td>0.48</td>\n",
              "      <td>0.333333</td>\n",
              "      <td>0.444444</td>\n",
              "      <td>0.393781</td>\n",
              "      <td>0.326531</td>\n",
              "      <td>0.266838</td>\n",
              "      <td>0.237774</td>\n",
              "      <td>0.329833</td>\n",
              "      <td>0.394457</td>\n",
              "      <td>0.473653</td>\n",
              "      <td>0.604294</td>\n",
              "      <td>0.432565</td>\n",
              "      <td>0.251554</td>\n",
              "      <td>0.516617</td>\n",
              "      <td>0.267067</td>\n",
              "      <td>0.588192</td>\n",
              "      <td>0.223800</td>\n",
              "      <td>0.253888</td>\n",
              "      <td>0.464690</td>\n",
              "      <td>0.424095</td>\n",
              "      <td>1.0</td>\n",
              "      <td>0.453908</td>\n",
              "      <td>0.466132</td>\n",
              "      <td>0.453841</td>\n",
              "      <td>0.833333</td>\n",
              "      <td>0.721883</td>\n",
              "    </tr>\n",
              "    <tr>\n",
              "      <th>1691</th>\n",
              "      <td>8908</td>\n",
              "      <td>0.666667</td>\n",
              "      <td>0.547292</td>\n",
              "      <td>0.0</td>\n",
              "      <td>0.52</td>\n",
              "      <td>0.666667</td>\n",
              "      <td>0.444444</td>\n",
              "      <td>0.388902</td>\n",
              "      <td>0.632653</td>\n",
              "      <td>0.414624</td>\n",
              "      <td>0.295652</td>\n",
              "      <td>0.426688</td>\n",
              "      <td>0.373146</td>\n",
              "      <td>0.522399</td>\n",
              "      <td>0.583394</td>\n",
              "      <td>0.694021</td>\n",
              "      <td>0.133315</td>\n",
              "      <td>0.633650</td>\n",
              "      <td>0.257280</td>\n",
              "      <td>0.539583</td>\n",
              "      <td>0.247714</td>\n",
              "      <td>0.246806</td>\n",
              "      <td>0.578135</td>\n",
              "      <td>0.533223</td>\n",
              "      <td>0.0</td>\n",
              "      <td>0.642351</td>\n",
              "      <td>0.405283</td>\n",
              "      <td>0.504876</td>\n",
              "      <td>0.275000</td>\n",
              "      <td>0.500270</td>\n",
              "    </tr>\n",
              "    <tr>\n",
              "      <th>1867</th>\n",
              "      <td>13667</td>\n",
              "      <td>0.111111</td>\n",
              "      <td>0.304770</td>\n",
              "      <td>1.0</td>\n",
              "      <td>0.28</td>\n",
              "      <td>0.333333</td>\n",
              "      <td>0.222222</td>\n",
              "      <td>0.393781</td>\n",
              "      <td>0.306122</td>\n",
              "      <td>0.344291</td>\n",
              "      <td>0.201658</td>\n",
              "      <td>0.821611</td>\n",
              "      <td>0.388648</td>\n",
              "      <td>0.530752</td>\n",
              "      <td>0.613984</td>\n",
              "      <td>0.480828</td>\n",
              "      <td>0.311105</td>\n",
              "      <td>0.593081</td>\n",
              "      <td>0.297804</td>\n",
              "      <td>0.543570</td>\n",
              "      <td>0.342374</td>\n",
              "      <td>0.283867</td>\n",
              "      <td>0.574068</td>\n",
              "      <td>0.492683</td>\n",
              "      <td>1.0</td>\n",
              "      <td>0.402138</td>\n",
              "      <td>0.466132</td>\n",
              "      <td>0.402138</td>\n",
              "      <td>0.491667</td>\n",
              "      <td>0.593789</td>\n",
              "    </tr>\n",
              "  </tbody>\n",
              "</table>\n",
              "<p>3200 rows × 30 columns</p>\n",
              "</div>"
            ],
            "text/plain": [
              "         ID  AgeGroup       BMI  ...  SportsPerDay  StudingPerDay  VariantScore\n",
              "3655  12503  0.555556  0.334681  ...      0.504876       0.400000      0.479114\n",
              "1251  11511  0.555556  0.458367  ...      0.254375       0.491667      0.606691\n",
              "1699  10251  0.666667  0.640259  ...      0.494589       0.708333      0.449764\n",
              "457   11080  0.777778  0.507680  ...      0.463193       0.491667      0.551932\n",
              "3832  14781  0.666667  0.391269  ...      0.826319       0.491667      0.454876\n",
              "...     ...       ...       ...  ...           ...            ...           ...\n",
              "3313  11085  0.333333  0.368634  ...      0.574349       0.941667      0.534842\n",
              "3325    451  0.555556  0.507680  ...      0.364195       0.641667      0.524035\n",
              "1414   1496  0.666667  0.561035  ...      0.453841       0.833333      0.721883\n",
              "1691   8908  0.666667  0.547292  ...      0.504876       0.275000      0.500270\n",
              "1867  13667  0.111111  0.304770  ...      0.402138       0.491667      0.593789\n",
              "\n",
              "[3200 rows x 30 columns]"
            ]
          },
          "metadata": {
            "tags": []
          },
          "execution_count": 13
        }
      ]
    },
    {
      "cell_type": "code",
      "metadata": {
        "id": "3g6DoxWKibZZ"
      },
      "source": [
        ""
      ],
      "execution_count": 13,
      "outputs": []
    },
    {
      "cell_type": "markdown",
      "metadata": {
        "id": "TaXv3-8pmWS3"
      },
      "source": [
        "# Section 2: Evaluation\n"
      ]
    },
    {
      "cell_type": "code",
      "metadata": {
        "id": "dOYSihN7xczi"
      },
      "source": [
        "errors_data = pd.DataFrame(columns= ['section', 'Train MSE', 'Validation MSE'])\n",
        "errors_data.loc['Dummy'] = [2, 0, 0]\n",
        "errors_data.loc['Basic Linear'] = [3, 0, 0]\n",
        "errors_data.loc['Multilevel linear'] = [4, 0, 0]\n",
        "errors_data.loc['Multilevel poly'] = [5, 0, 0]"
      ],
      "execution_count": 14,
      "outputs": []
    },
    {
      "cell_type": "code",
      "metadata": {
        "id": "HI_iNg0E0cmk"
      },
      "source": [
        "attributes = train.columns.to_list()\n",
        "features = attributes[1:-1]"
      ],
      "execution_count": 15,
      "outputs": []
    },
    {
      "cell_type": "markdown",
      "metadata": {
        "id": "UkNkSKdkqA8y"
      },
      "source": [
        "**Q6**"
      ]
    },
    {
      "cell_type": "code",
      "metadata": {
        "id": "kRVIjkTnmf9o"
      },
      "source": [
        "from sklearn.model_selection import cross_validate\n",
        "from sklearn.metrics import mean_squared_error, make_scorer\n",
        "\n",
        "def CV_evaluation(h, X_train, y_train, n_splits=5):\n",
        "  scores = cross_validate(h, X_train, y_train, cv=n_splits,\n",
        "  scoring=make_scorer(mean_squared_error),\n",
        "  return_train_score=True)\n",
        "  \n",
        "  train_mse = scores['train_score'].mean()\n",
        "  valid_mse = scores['test_score'].mean()\n",
        "  \n",
        "  return (train_mse, valid_mse)"
      ],
      "execution_count": 16,
      "outputs": []
    },
    {
      "cell_type": "markdown",
      "metadata": {
        "id": "jDsfm1jUqCpb"
      },
      "source": [
        "**Q7**"
      ]
    },
    {
      "cell_type": "code",
      "metadata": {
        "colab": {
          "base_uri": "https://localhost:8080/",
          "height": 173
        },
        "id": "7PfnI5l5qEiL",
        "outputId": "73f81a2d-f555-4eec-ee6f-218567f3d4d8"
      },
      "source": [
        "from sklearn.dummy import DummyRegressor\n",
        "\n",
        "dummy_regressor = DummyRegressor(strategy=\"mean\")\n",
        "# dummy_regressor.fit(train)\n",
        "\n",
        "x,y = CV_evaluation(dummy_regressor, train[features], train['VariantScore'])\n",
        "errors_data.loc['Dummy']['Train MSE'] = x\n",
        "errors_data.loc['Dummy']['Validation MSE'] = y\n",
        "\n",
        "errors_data"
      ],
      "execution_count": 17,
      "outputs": [
        {
          "output_type": "execute_result",
          "data": {
            "text/html": [
              "<div>\n",
              "<style scoped>\n",
              "    .dataframe tbody tr th:only-of-type {\n",
              "        vertical-align: middle;\n",
              "    }\n",
              "\n",
              "    .dataframe tbody tr th {\n",
              "        vertical-align: top;\n",
              "    }\n",
              "\n",
              "    .dataframe thead th {\n",
              "        text-align: right;\n",
              "    }\n",
              "</style>\n",
              "<table border=\"1\" class=\"dataframe\">\n",
              "  <thead>\n",
              "    <tr style=\"text-align: right;\">\n",
              "      <th></th>\n",
              "      <th>section</th>\n",
              "      <th>Train MSE</th>\n",
              "      <th>Validation MSE</th>\n",
              "    </tr>\n",
              "  </thead>\n",
              "  <tbody>\n",
              "    <tr>\n",
              "      <th>Dummy</th>\n",
              "      <td>2</td>\n",
              "      <td>0.0121805</td>\n",
              "      <td>0.01219</td>\n",
              "    </tr>\n",
              "    <tr>\n",
              "      <th>Basic Linear</th>\n",
              "      <td>3</td>\n",
              "      <td>0</td>\n",
              "      <td>0</td>\n",
              "    </tr>\n",
              "    <tr>\n",
              "      <th>Multilevel linear</th>\n",
              "      <td>4</td>\n",
              "      <td>0</td>\n",
              "      <td>0</td>\n",
              "    </tr>\n",
              "    <tr>\n",
              "      <th>Multilevel poly</th>\n",
              "      <td>5</td>\n",
              "      <td>0</td>\n",
              "      <td>0</td>\n",
              "    </tr>\n",
              "  </tbody>\n",
              "</table>\n",
              "</div>"
            ],
            "text/plain": [
              "                  section  Train MSE Validation MSE\n",
              "Dummy                   2  0.0121805        0.01219\n",
              "Basic Linear            3          0              0\n",
              "Multilevel linear       4          0              0\n",
              "Multilevel poly         5          0              0"
            ]
          },
          "metadata": {
            "tags": []
          },
          "execution_count": 17
        }
      ]
    },
    {
      "cell_type": "markdown",
      "metadata": {
        "id": "Ju2fZ-VOsfMP"
      },
      "source": [
        "# Section 3: Basic linear regression"
      ]
    },
    {
      "cell_type": "markdown",
      "metadata": {
        "id": "Xw5gHX7nsiX3"
      },
      "source": [
        "**Q8**"
      ]
    },
    {
      "cell_type": "code",
      "metadata": {
        "colab": {
          "base_uri": "https://localhost:8080/",
          "height": 285
        },
        "id": "ASG0e2TutM07",
        "outputId": "163cccf1-0af6-488f-c1c8-09389cd7f7d5"
      },
      "source": [
        "from sklearn.linear_model import Ridge\n",
        "from matplotlib.pyplot import semilogx\n",
        "\n",
        "def tuning(data, features_list, print_flag=True):\n",
        "  train_scores, validation_scores = [], []\n",
        "  alpha_values = np.logspace(0, 5, num=100)\n",
        "  best_score_on_train, best_score_on_validation, best_alpha = 1, 1, 0\n",
        "  for val in alpha_values:\n",
        "    ridge = Ridge(val)\n",
        "    error = CV_evaluation(ridge, data[features_list], data['VariantScore'])\n",
        "    train_scores.append(error[0])\n",
        "    validation_scores.append(error[1])\n",
        "    if error[1] < best_score_on_validation:\n",
        "      best_score_on_validation = error[1]\n",
        "      best_score_on_train = error[0]\n",
        "      best_alpha = val\n",
        "  \n",
        "  if print_flag:\n",
        "    plt.semilogx(alpha_values, train_scores, 'r', label='train')\n",
        "    plt.semilogx(alpha_values, validation_scores, 'b', label='validation')\n",
        "    plt.legend()\n",
        "    plt.grid(True)\n",
        "    plt.title(\"Ridge classifier error as a function of alpha values\")\n",
        "    plt.show()\n",
        "\n",
        "  return best_score_on_train, best_score_on_validation, best_alpha\n",
        "\n",
        "best_score_on_train, best_score_on_validation, best_alpha = tuning(train, features_list=features) # got (0,0) means there is no regularization at all\n",
        "\n",
        "#  make sure this is the right plot + scores"
      ],
      "execution_count": 18,
      "outputs": [
        {
          "output_type": "display_data",
          "data": {
            "image/png": "[encoded data removed]",
            "text/plain": [
              "<Figure size 432x288 with 1 Axes>"
            ]
          },
          "metadata": {
            "tags": [],
            "needs_background": "light"
          }
        }
      ]
    },
    {
      "cell_type": "markdown",
      "metadata": {
        "id": "PG0ex3W8w2hD"
      },
      "source": [
        "**Q9**"
      ]
    },
    {
      "cell_type": "code",
      "metadata": {
        "colab": {
          "base_uri": "https://localhost:8080/",
          "height": 173
        },
        "id": "gjTqOT7Myswr",
        "outputId": "268e6124-ad73-403d-c1b8-68dbe1cf86b3"
      },
      "source": [
        "errors_data.loc['Basic Linear']['Train MSE'] = best_score_on_train\n",
        "errors_data.loc['Basic Linear']['Validation MSE'] = best_score_on_validation\n",
        "\n",
        "errors_data"
      ],
      "execution_count": 19,
      "outputs": [
        {
          "output_type": "execute_result",
          "data": {
            "text/html": [
              "<div>\n",
              "<style scoped>\n",
              "    .dataframe tbody tr th:only-of-type {\n",
              "        vertical-align: middle;\n",
              "    }\n",
              "\n",
              "    .dataframe tbody tr th {\n",
              "        vertical-align: top;\n",
              "    }\n",
              "\n",
              "    .dataframe thead th {\n",
              "        text-align: right;\n",
              "    }\n",
              "</style>\n",
              "<table border=\"1\" class=\"dataframe\">\n",
              "  <thead>\n",
              "    <tr style=\"text-align: right;\">\n",
              "      <th></th>\n",
              "      <th>section</th>\n",
              "      <th>Train MSE</th>\n",
              "      <th>Validation MSE</th>\n",
              "    </tr>\n",
              "  </thead>\n",
              "  <tbody>\n",
              "    <tr>\n",
              "      <th>Dummy</th>\n",
              "      <td>2</td>\n",
              "      <td>0.0121805</td>\n",
              "      <td>0.01219</td>\n",
              "    </tr>\n",
              "    <tr>\n",
              "      <th>Basic Linear</th>\n",
              "      <td>3</td>\n",
              "      <td>0.00739167</td>\n",
              "      <td>0.00756576</td>\n",
              "    </tr>\n",
              "    <tr>\n",
              "      <th>Multilevel linear</th>\n",
              "      <td>4</td>\n",
              "      <td>0</td>\n",
              "      <td>0</td>\n",
              "    </tr>\n",
              "    <tr>\n",
              "      <th>Multilevel poly</th>\n",
              "      <td>5</td>\n",
              "      <td>0</td>\n",
              "      <td>0</td>\n",
              "    </tr>\n",
              "  </tbody>\n",
              "</table>\n",
              "</div>"
            ],
            "text/plain": [
              "                  section   Train MSE Validation MSE\n",
              "Dummy                   2   0.0121805        0.01219\n",
              "Basic Linear            3  0.00739167     0.00756576\n",
              "Multilevel linear       4           0              0\n",
              "Multilevel poly         5           0              0"
            ]
          },
          "metadata": {
            "tags": []
          },
          "execution_count": 19
        }
      ]
    },
    {
      "cell_type": "markdown",
      "metadata": {
        "id": "GspSFUNAy6AW"
      },
      "source": [
        "**Q10**"
      ]
    },
    {
      "cell_type": "code",
      "metadata": {
        "colab": {
          "base_uri": "https://localhost:8080/",
          "height": 418
        },
        "id": "cUiJ9Whay5dR",
        "outputId": "3fd1939f-ef92-4950-bb4f-f824a3d2527d"
      },
      "source": [
        "print(best_alpha)\n",
        "ridge = Ridge(best_alpha)\n",
        "ridge.fit(train[features], train['VariantScore'])\n",
        "print('w = ',ridge.coef_)\n",
        "# pd.Series(ridge.coef_, index = features).nlargest(10).plot(kind='barh')\n",
        "\n",
        "tmp = pd.Series(ridge.coef_, index = features)\n",
        "tmp = tmp.apply(lambda x: x if x>0 else -x)\n",
        "tmp = tmp.sort_values(axis=0)\n",
        "tmp.nlargest(10).plot(kind='barh')\n"
      ],
      "execution_count": 20,
      "outputs": [
        {
          "output_type": "stream",
          "text": [
            "4.0370172585965545\n",
            "w =  [-1.12581615e-02 -2.21191846e-03  6.15830469e-02 -1.77666439e-02\n",
            "  1.12089201e-02 -2.02157982e-02  5.40348204e-04 -9.17061652e-03\n",
            "  7.55056716e-02  7.95658711e-02 -1.09494714e-01 -5.97422825e-03\n",
            "  1.55639609e-04  1.93472179e-03  8.94840756e-02 -2.27657238e-01\n",
            "  9.82316108e-03 -9.98311708e-03 -4.48129732e-03 -2.23968185e-02\n",
            " -9.60426154e-02 -1.22870303e-03  7.33548653e-02  8.06308030e-02\n",
            " -1.73605912e-02  1.31288515e-03  1.65686907e-02  3.14387062e-04]\n"
          ],
          "name": "stdout"
        },
        {
          "output_type": "execute_result",
          "data": {
            "text/plain": [
              "<matplotlib.axes._subplots.AxesSubplot at 0x7f6116913e10>"
            ]
          },
          "metadata": {
            "tags": []
          },
          "execution_count": 20
        },
        {
          "output_type": "display_data",
          "data": {
            "image/png": "[encoded data removed]",
            "text/plain": [
              "<Figure size 432x288 with 1 Axes>"
            ]
          },
          "metadata": {
            "tags": [],
            "needs_background": "light"
          }
        }
      ]
    },
    {
      "cell_type": "markdown",
      "metadata": {
        "id": "md1S1slFqT43"
      },
      "source": [
        "# Section 4: Hierarchical linear regression"
      ]
    },
    {
      "cell_type": "markdown",
      "metadata": {
        "id": "_VnrD9G4qVcu"
      },
      "source": [
        "**Q11**"
      ]
    },
    {
      "cell_type": "code",
      "metadata": {
        "colab": {
          "base_uri": "https://localhost:8080/",
          "height": 296
        },
        "id": "VTa39zUdqXjD",
        "outputId": "d1a801d4-3bf4-4a03-ae35-db1d00fe14ed"
      },
      "source": [
        "sns.kdeplot(data = train, x='AgeGroup', y='VariantScore', hue='Sex', color='b')"
      ],
      "execution_count": 21,
      "outputs": [
        {
          "output_type": "execute_result",
          "data": {
            "text/plain": [
              "<matplotlib.axes._subplots.AxesSubplot at 0x7f61168ea250>"
            ]
          },
          "metadata": {
            "tags": []
          },
          "execution_count": 21
        },
        {
          "output_type": "display_data",
          "data": {
            "image/png": "[encoded data removed]",
            "text/plain": [
              "<Figure size 432x288 with 1 Axes>"
            ]
          },
          "metadata": {
            "tags": [],
            "needs_background": "light"
          }
        }
      ]
    },
    {
      "cell_type": "markdown",
      "metadata": {
        "id": "tUoJ32Tls_In"
      },
      "source": [
        "now we will split the trainig set to feamles and males"
      ]
    },
    {
      "cell_type": "code",
      "metadata": {
        "id": "uI8a-IsStFz2"
      },
      "source": [
        "females = train[train['Sex'] == 0]\n",
        "males = train[train['Sex'] == 1]"
      ],
      "execution_count": 22,
      "outputs": []
    },
    {
      "cell_type": "markdown",
      "metadata": {
        "id": "V4H3B3ZOsuQA"
      },
      "source": [
        "**Q12**"
      ]
    },
    {
      "cell_type": "code",
      "metadata": {
        "id": "FGxqM1pCsxE6",
        "colab": {
          "base_uri": "https://localhost:8080/",
          "height": 647
        },
        "outputId": "9b693c12-3a36-43e4-b757-0fe5c4d0d046"
      },
      "source": [
        "SexDataFrame = pd.DataFrame(columns= ['Train MSE', 'Validation MSE', 'Best alpha'])\n",
        "SexDataFrame.loc['Females'] = [0,0,0]\n",
        "SexDataFrame.loc['Males'] = [0,0,0]\n",
        "\n",
        "SexDataFrame.loc['Females']['Train MSE'], SexDataFrame.loc['Females']['Validation MSE'], SexDataFrame.loc['Females']['Best alpha'] = tuning(females, features)\n",
        "\n",
        "SexDataFrame.loc['Males']['Train MSE'], SexDataFrame.loc['Males']['Validation MSE'], SexDataFrame.loc['Males']['Best alpha'] = tuning(males, features)\n",
        "\n",
        "SexDataFrame"
      ],
      "execution_count": 23,
      "outputs": [
        {
          "output_type": "display_data",
          "data": {
            "image/png": "[encoded data removed]",
            "text/plain": [
              "<Figure size 432x288 with 1 Axes>"
            ]
          },
          "metadata": {
            "tags": [],
            "needs_background": "light"
          }
        },
        {
          "output_type": "display_data",
          "data": {
            "image/png": "[encoded data removed]",
            "text/plain": [
              "<Figure size 432x288 with 1 Axes>"
            ]
          },
          "metadata": {
            "tags": [],
            "needs_background": "light"
          }
        },
        {
          "output_type": "execute_result",
          "data": {
            "text/html": [
              "<div>\n",
              "<style scoped>\n",
              "    .dataframe tbody tr th:only-of-type {\n",
              "        vertical-align: middle;\n",
              "    }\n",
              "\n",
              "    .dataframe tbody tr th {\n",
              "        vertical-align: top;\n",
              "    }\n",
              "\n",
              "    .dataframe thead th {\n",
              "        text-align: right;\n",
              "    }\n",
              "</style>\n",
              "<table border=\"1\" class=\"dataframe\">\n",
              "  <thead>\n",
              "    <tr style=\"text-align: right;\">\n",
              "      <th></th>\n",
              "      <th>Train MSE</th>\n",
              "      <th>Validation MSE</th>\n",
              "      <th>Best alpha</th>\n",
              "    </tr>\n",
              "  </thead>\n",
              "  <tbody>\n",
              "    <tr>\n",
              "      <th>Females</th>\n",
              "      <td>0.0028616</td>\n",
              "      <td>0.00298339</td>\n",
              "      <td>2.84804</td>\n",
              "    </tr>\n",
              "    <tr>\n",
              "      <th>Males</th>\n",
              "      <td>0.00379825</td>\n",
              "      <td>0.00393541</td>\n",
              "      <td>1</td>\n",
              "    </tr>\n",
              "  </tbody>\n",
              "</table>\n",
              "</div>"
            ],
            "text/plain": [
              "          Train MSE Validation MSE Best alpha\n",
              "Females   0.0028616     0.00298339    2.84804\n",
              "Males    0.00379825     0.00393541          1"
            ]
          },
          "metadata": {
            "tags": []
          },
          "execution_count": 23
        }
      ]
    },
    {
      "cell_type": "code",
      "metadata": {
        "colab": {
          "base_uri": "https://localhost:8080/",
          "height": 553
        },
        "id": "kai_QR_hjb5z",
        "outputId": "9c2597d9-f69e-46d7-f31a-3ef35d3985eb"
      },
      "source": [
        "best_score_on_train_f, best_score_on_validation_f, best_alpha_f = tuning(train[train['Sex'] == 0], features)\n",
        "best_score_on_train_m, best_score_on_validation_m, best_alpha_m = tuning(train[train['Sex'] == 1], features)"
      ],
      "execution_count": 24,
      "outputs": [
        {
          "output_type": "display_data",
          "data": {
            "image/png": "[encoded data removed]",
            "text/plain": [
              "<Figure size 432x288 with 1 Axes>"
            ]
          },
          "metadata": {
            "tags": [],
            "needs_background": "light"
          }
        },
        {
          "output_type": "display_data",
          "data": {
            "image/png": "[encoded data removed]",
            "text/plain": [
              "<Figure size 432x288 with 1 Axes>"
            ]
          },
          "metadata": {
            "tags": [],
            "needs_background": "light"
          }
        }
      ]
    },
    {
      "cell_type": "code",
      "metadata": {
        "id": "kAjQr4EEj9JT"
      },
      "source": [
        "from sklearn.base import BaseEstimator, RegressorMixin\n",
        "class MultiRegressor(BaseEstimator, RegressorMixin):\n",
        "  def __init__(self, h_male, h_female):\n",
        "    self.h_male = h_male\n",
        "    self.h_female = h_female\n",
        "\n",
        "  def fit(self, X, y):\n",
        "    x_m = X[X['Sex'] == 1]\n",
        "    y_m = y[x_m.index]\n",
        "    x_m = x_m.drop(['Sex'], axis = 1)\n",
        "    self.h_male.fit(x_m, y_m)\n",
        "\n",
        "    x_f = X[X['Sex'] == 0]\n",
        "    y_f = y[x_f.index]\n",
        "    x_f = x_f.drop(['Sex'], axis = 1)\n",
        "    self.h_female.fit(x_f, y_f)\n",
        "    return self\n",
        "\n",
        "  def predict(self, X):\n",
        "    # X should be a pandas dataframe\n",
        "    all_predictions = []\n",
        "\n",
        "    for index, x in X.iterrows():\n",
        "      fixed_x = x.drop(['Sex'])\n",
        "      y_pred = self.h_female.predict([fixed_x]) if x['Sex'] == 0 else self.h_male.predict([fixed_x])\n",
        "      all_predictions.append(y_pred[0])\n",
        "\n",
        "    return all_predictions"
      ],
      "execution_count": 25,
      "outputs": []
    },
    {
      "cell_type": "code",
      "metadata": {
        "id": "RxNolB4IlS0X"
      },
      "source": [
        "multi = MultiRegressor(Ridge(best_alpha_m), Ridge(best_alpha_f))"
      ],
      "execution_count": 26,
      "outputs": []
    },
    {
      "cell_type": "markdown",
      "metadata": {
        "id": "-ZGW8vTpn-Pd"
      },
      "source": [
        "**Q13**"
      ]
    },
    {
      "cell_type": "code",
      "metadata": {
        "colab": {
          "base_uri": "https://localhost:8080/",
          "height": 173
        },
        "id": "tl8Vvx4ZlEpm",
        "outputId": "d1e90a3b-2508-4577-87dd-1cbe65d8533b"
      },
      "source": [
        "errors = CV_evaluation(multi, train[features], train['VariantScore'])\n",
        "\n",
        "errors_data.loc['Multilevel linear']['Train MSE'] = errors[0]\n",
        "errors_data.loc['Multilevel linear']['Validation MSE'] = errors[1]\n",
        "\n",
        "errors_data"
      ],
      "execution_count": 27,
      "outputs": [
        {
          "output_type": "execute_result",
          "data": {
            "text/html": [
              "<div>\n",
              "<style scoped>\n",
              "    .dataframe tbody tr th:only-of-type {\n",
              "        vertical-align: middle;\n",
              "    }\n",
              "\n",
              "    .dataframe tbody tr th {\n",
              "        vertical-align: top;\n",
              "    }\n",
              "\n",
              "    .dataframe thead th {\n",
              "        text-align: right;\n",
              "    }\n",
              "</style>\n",
              "<table border=\"1\" class=\"dataframe\">\n",
              "  <thead>\n",
              "    <tr style=\"text-align: right;\">\n",
              "      <th></th>\n",
              "      <th>section</th>\n",
              "      <th>Train MSE</th>\n",
              "      <th>Validation MSE</th>\n",
              "    </tr>\n",
              "  </thead>\n",
              "  <tbody>\n",
              "    <tr>\n",
              "      <th>Dummy</th>\n",
              "      <td>2</td>\n",
              "      <td>0.0121805</td>\n",
              "      <td>0.01219</td>\n",
              "    </tr>\n",
              "    <tr>\n",
              "      <th>Basic Linear</th>\n",
              "      <td>3</td>\n",
              "      <td>0.00739167</td>\n",
              "      <td>0.00756576</td>\n",
              "    </tr>\n",
              "    <tr>\n",
              "      <th>Multilevel linear</th>\n",
              "      <td>4</td>\n",
              "      <td>0.00333368</td>\n",
              "      <td>0.00346586</td>\n",
              "    </tr>\n",
              "    <tr>\n",
              "      <th>Multilevel poly</th>\n",
              "      <td>5</td>\n",
              "      <td>0</td>\n",
              "      <td>0</td>\n",
              "    </tr>\n",
              "  </tbody>\n",
              "</table>\n",
              "</div>"
            ],
            "text/plain": [
              "                  section   Train MSE Validation MSE\n",
              "Dummy                   2   0.0121805        0.01219\n",
              "Basic Linear            3  0.00739167     0.00756576\n",
              "Multilevel linear       4  0.00333368     0.00346586\n",
              "Multilevel poly         5           0              0"
            ]
          },
          "metadata": {
            "tags": []
          },
          "execution_count": 27
        }
      ]
    },
    {
      "cell_type": "markdown",
      "metadata": {
        "id": "0sjTdw2cocG5"
      },
      "source": [
        "**Q14**"
      ]
    },
    {
      "cell_type": "code",
      "metadata": {
        "colab": {
          "base_uri": "https://localhost:8080/"
        },
        "id": "iDBGv5v0oMM1",
        "outputId": "487b1cb3-4c7e-44ff-f533-a69cb11e2437"
      },
      "source": [
        "multi.fit(train[features], train['VariantScore'])"
      ],
      "execution_count": 28,
      "outputs": [
        {
          "output_type": "execute_result",
          "data": {
            "text/plain": [
              "MultiRegressor(h_female=Ridge(alpha=2.8480358684358014, copy_X=True,\n",
              "                              fit_intercept=True, max_iter=None,\n",
              "                              normalize=False, random_state=None, solver='auto',\n",
              "                              tol=0.001),\n",
              "               h_male=Ridge(alpha=1.0, copy_X=True, fit_intercept=True,\n",
              "                            max_iter=None, normalize=False, random_state=None,\n",
              "                            solver='auto', tol=0.001))"
            ]
          },
          "metadata": {
            "tags": []
          },
          "execution_count": 28
        }
      ]
    },
    {
      "cell_type": "markdown",
      "metadata": {
        "id": "Ifa2GKhiqy3T"
      },
      "source": [
        "# Section 5: Polynomial fitting"
      ]
    },
    {
      "cell_type": "markdown",
      "metadata": {
        "id": "iP3OC3hnv5mk"
      },
      "source": [
        "creating the new data frame"
      ]
    },
    {
      "cell_type": "code",
      "metadata": {
        "id": "htYqRbYXj7Qb"
      },
      "source": [
        "def df_to_quad_df(df):\n",
        "  tmp_df = np.power(df, 2)\n",
        "  tmp_df.rename(columns=lambda x: x+\"_quadratic\", inplace=True)\n",
        "  df_quad = pd.concat([df ,tmp_df], axis=1, ignore_index=True)\n",
        "  df_quad.columns = list(df.columns) + list(tmp_df.columns)\n",
        "  for col in ['Sex_quadratic', 'ID_quadratic', 'BloodType_quadratic', 'VariantScore_quadratic']:\n",
        "    if (col in df_quad.columns):\n",
        "      df_quad.drop(col, axis=1, inplace=True)\n",
        "  return df_quad\n",
        "\n",
        "train_quadratic = df_to_quad_df(train)\n",
        "test_quadratic = df_to_quad_df(test)\n",
        "\n",
        "quad_features = train_quadratic.columns.to_list()\n",
        "quad_features.remove('VariantScore')\n",
        "quad_features.remove('ID')"
      ],
      "execution_count": 29,
      "outputs": []
    },
    {
      "cell_type": "markdown",
      "metadata": {
        "id": "i33hzKWt4QHF"
      },
      "source": [
        "**Q17**"
      ]
    },
    {
      "cell_type": "code",
      "metadata": {
        "colab": {
          "base_uri": "https://localhost:8080/",
          "height": 647
        },
        "id": "Lphoyuj94Js4",
        "outputId": "cae468cf-02d5-4c4a-fdfd-8ccd36176fc5"
      },
      "source": [
        "# this is what they mean ?\n",
        "SexDataFrame2 = pd.DataFrame(columns= ['Train MSE', 'Validation MSE', 'Best alpha'])\n",
        "SexDataFrame2.loc['Females'] = [0,0,0]\n",
        "SexDataFrame2.loc['Males'] = [0,0,0]\n",
        "\n",
        "best_score_on_train_f, best_score_on_validation_f, best_alpha_f = tuning(train_quadratic[train_quadratic['Sex'] == 0], features_list=quad_features)\n",
        "best_score_on_train_m, best_score_on_validation_m, best_alpha_m = tuning(train_quadratic[train_quadratic['Sex'] == 1], features_list=quad_features)\n",
        "\n",
        "SexDataFrame2.loc['Females']['Train MSE'], SexDataFrame2.loc['Females']['Validation MSE'], SexDataFrame2.loc['Females']['Best alpha'] = best_score_on_train_f, best_score_on_validation_f, best_alpha_f\n",
        "SexDataFrame2.loc['Males']['Train MSE'], SexDataFrame2.loc['Males']['Validation MSE'], SexDataFrame2.loc['Males']['Best alpha'] = best_score_on_train_m, best_score_on_validation_m, best_alpha_m\n",
        "\n",
        "SexDataFrame2"
      ],
      "execution_count": 30,
      "outputs": [
        {
          "output_type": "display_data",
          "data": {
            "image/png": "[encoded data removed]",
            "text/plain": [
              "<Figure size 432x288 with 1 Axes>"
            ]
          },
          "metadata": {
            "tags": [],
            "needs_background": "light"
          }
        },
        {
          "output_type": "display_data",
          "data": {
            "image/png": "[encoded data removed]",
            "text/plain": [
              "<Figure size 432x288 with 1 Axes>"
            ]
          },
          "metadata": {
            "tags": [],
            "needs_background": "light"
          }
        },
        {
          "output_type": "execute_result",
          "data": {
            "text/html": [
              "<div>\n",
              "<style scoped>\n",
              "    .dataframe tbody tr th:only-of-type {\n",
              "        vertical-align: middle;\n",
              "    }\n",
              "\n",
              "    .dataframe tbody tr th {\n",
              "        vertical-align: top;\n",
              "    }\n",
              "\n",
              "    .dataframe thead th {\n",
              "        text-align: right;\n",
              "    }\n",
              "</style>\n",
              "<table border=\"1\" class=\"dataframe\">\n",
              "  <thead>\n",
              "    <tr style=\"text-align: right;\">\n",
              "      <th></th>\n",
              "      <th>Train MSE</th>\n",
              "      <th>Validation MSE</th>\n",
              "      <th>Best alpha</th>\n",
              "    </tr>\n",
              "  </thead>\n",
              "  <tbody>\n",
              "    <tr>\n",
              "      <th>Females</th>\n",
              "      <td>0.00166542</td>\n",
              "      <td>0.00179788</td>\n",
              "      <td>1</td>\n",
              "    </tr>\n",
              "    <tr>\n",
              "      <th>Males</th>\n",
              "      <td>0.00357682</td>\n",
              "      <td>0.0037711</td>\n",
              "      <td>1</td>\n",
              "    </tr>\n",
              "  </tbody>\n",
              "</table>\n",
              "</div>"
            ],
            "text/plain": [
              "          Train MSE Validation MSE Best alpha\n",
              "Females  0.00166542     0.00179788          1\n",
              "Males    0.00357682      0.0037711          1"
            ]
          },
          "metadata": {
            "tags": []
          },
          "execution_count": 30
        }
      ]
    },
    {
      "cell_type": "code",
      "metadata": {
        "id": "CgVgKUjJ4bzO",
        "colab": {
          "base_uri": "https://localhost:8080/"
        },
        "outputId": "1e8cc787-e45d-4b5c-cae1-bfd461f7aae3"
      },
      "source": [
        "multi_polynomial = MultiRegressor(Ridge(best_alpha_m), Ridge(best_alpha_f))\n",
        "multi_polynomial"
      ],
      "execution_count": 31,
      "outputs": [
        {
          "output_type": "execute_result",
          "data": {
            "text/plain": [
              "MultiRegressor(h_female=Ridge(alpha=1.0, copy_X=True, fit_intercept=True,\n",
              "                              max_iter=None, normalize=False, random_state=None,\n",
              "                              solver='auto', tol=0.001),\n",
              "               h_male=Ridge(alpha=1.0, copy_X=True, fit_intercept=True,\n",
              "                            max_iter=None, normalize=False, random_state=None,\n",
              "                            solver='auto', tol=0.001))"
            ]
          },
          "metadata": {
            "tags": []
          },
          "execution_count": 31
        }
      ]
    },
    {
      "cell_type": "markdown",
      "metadata": {
        "id": "pcf-ZI7Z_k3O"
      },
      "source": [
        "**Q18**"
      ]
    },
    {
      "cell_type": "code",
      "metadata": {
        "id": "VVDsOYSs3cDt"
      },
      "source": [
        "multiScoreDF = pd.DataFrame(columns= ['Multilevel Model','Section', 'Sex', 'Train MSE', 'Valid MSE'])\n",
        "multiScoreDF = multiScoreDF.set_index([\"Multilevel Model\", \"Section\", \"Sex\"])\n",
        "for gender in ['M', 'F']:\n",
        "  multiScoreDF.loc['Linear', 4, gender] = [0,0]\n",
        "  multiScoreDF.loc['Polynomial', 5, gender] = [0,0]\n",
        "# multiScoreDF"
      ],
      "execution_count": 32,
      "outputs": []
    },
    {
      "cell_type": "code",
      "metadata": {
        "colab": {
          "base_uri": "https://localhost:8080/",
          "height": 204
        },
        "id": "CbbmN3bC5cDe",
        "outputId": "c2b7a44c-64f6-491c-81bc-733789b12a7a"
      },
      "source": [
        "Ridge_males = Ridge(best_alpha_m)\n",
        "Ridge_females = Ridge(best_alpha_f)\n",
        "\n",
        "err_train_m ,err_val_m = CV_evaluation(Ridge_males, males[features], males['VariantScore'])\n",
        "err_train_f ,err_val_f = CV_evaluation(Ridge_females, females[features], females['VariantScore'])\n",
        "\n",
        "multiScoreDF.loc['Linear', 4, 'M'] = [err_train_m ,err_val_m]\n",
        "multiScoreDF.loc['Linear', 4, 'F'] = [err_train_f ,err_val_f]\n",
        "\n",
        "quad_m = train_quadratic[train_quadratic['Sex'] == 1]\n",
        "quad_f = train_quadratic[train_quadratic['Sex'] == 0]\n",
        "\n",
        "\n",
        "err_train_m_quad ,err_val_m_quad = CV_evaluation(Ridge_males, quad_m[quad_features], quad_m['VariantScore'])\n",
        "err_train_f_quad ,err_val_f_quad = CV_evaluation(Ridge_females, quad_f[quad_features], quad_f['VariantScore'])\n",
        "\n",
        "multiScoreDF.loc['Polynomial', 5, 'M'] = [err_train_m_quad ,err_val_m_quad]\n",
        "multiScoreDF.loc['Polynomial', 5, 'F'] = [err_train_f_quad ,err_val_f_quad]\n",
        "\n",
        "multiScoreDF"
      ],
      "execution_count": 33,
      "outputs": [
        {
          "output_type": "execute_result",
          "data": {
            "text/html": [
              "<div>\n",
              "<style scoped>\n",
              "    .dataframe tbody tr th:only-of-type {\n",
              "        vertical-align: middle;\n",
              "    }\n",
              "\n",
              "    .dataframe tbody tr th {\n",
              "        vertical-align: top;\n",
              "    }\n",
              "\n",
              "    .dataframe thead th {\n",
              "        text-align: right;\n",
              "    }\n",
              "</style>\n",
              "<table border=\"1\" class=\"dataframe\">\n",
              "  <thead>\n",
              "    <tr style=\"text-align: right;\">\n",
              "      <th></th>\n",
              "      <th></th>\n",
              "      <th></th>\n",
              "      <th>Train MSE</th>\n",
              "      <th>Valid MSE</th>\n",
              "    </tr>\n",
              "    <tr>\n",
              "      <th>Multilevel Model</th>\n",
              "      <th>Section</th>\n",
              "      <th>Sex</th>\n",
              "      <th></th>\n",
              "      <th></th>\n",
              "    </tr>\n",
              "  </thead>\n",
              "  <tbody>\n",
              "    <tr>\n",
              "      <th>Linear</th>\n",
              "      <th>4</th>\n",
              "      <th>M</th>\n",
              "      <td>0.00379825</td>\n",
              "      <td>0.00393541</td>\n",
              "    </tr>\n",
              "    <tr>\n",
              "      <th>Polynomial</th>\n",
              "      <th>5</th>\n",
              "      <th>M</th>\n",
              "      <td>0.00357682</td>\n",
              "      <td>0.0037711</td>\n",
              "    </tr>\n",
              "    <tr>\n",
              "      <th>Linear</th>\n",
              "      <th>4</th>\n",
              "      <th>F</th>\n",
              "      <td>0.00284185</td>\n",
              "      <td>0.00299319</td>\n",
              "    </tr>\n",
              "    <tr>\n",
              "      <th>Polynomial</th>\n",
              "      <th>5</th>\n",
              "      <th>F</th>\n",
              "      <td>0.00166542</td>\n",
              "      <td>0.00179788</td>\n",
              "    </tr>\n",
              "  </tbody>\n",
              "</table>\n",
              "</div>"
            ],
            "text/plain": [
              "                               Train MSE   Valid MSE\n",
              "Multilevel Model Section Sex                        \n",
              "Linear           4       M    0.00379825  0.00393541\n",
              "Polynomial       5       M    0.00357682   0.0037711\n",
              "Linear           4       F    0.00284185  0.00299319\n",
              "Polynomial       5       F    0.00166542  0.00179788"
            ]
          },
          "metadata": {
            "tags": []
          },
          "execution_count": 33
        }
      ]
    },
    {
      "cell_type": "markdown",
      "metadata": {
        "id": "B_HJwefSGAE4"
      },
      "source": [
        "**Q20**"
      ]
    },
    {
      "cell_type": "code",
      "metadata": {
        "colab": {
          "base_uri": "https://localhost:8080/",
          "height": 173
        },
        "id": "OrRe1Ox52KFR",
        "outputId": "753f09d3-47a3-4efb-97d0-00a0540c31a8"
      },
      "source": [
        "errors = CV_evaluation(multi_polynomial, train_quadratic[quad_features], train_quadratic['VariantScore'])\n",
        "\n",
        "errors_data.loc['Multilevel poly']['Train MSE'] = errors[0]\n",
        "errors_data.loc['Multilevel poly']['Validation MSE'] = errors[1]\n",
        "\n",
        "errors_data"
      ],
      "execution_count": 34,
      "outputs": [
        {
          "output_type": "execute_result",
          "data": {
            "text/html": [
              "<div>\n",
              "<style scoped>\n",
              "    .dataframe tbody tr th:only-of-type {\n",
              "        vertical-align: middle;\n",
              "    }\n",
              "\n",
              "    .dataframe tbody tr th {\n",
              "        vertical-align: top;\n",
              "    }\n",
              "\n",
              "    .dataframe thead th {\n",
              "        text-align: right;\n",
              "    }\n",
              "</style>\n",
              "<table border=\"1\" class=\"dataframe\">\n",
              "  <thead>\n",
              "    <tr style=\"text-align: right;\">\n",
              "      <th></th>\n",
              "      <th>section</th>\n",
              "      <th>Train MSE</th>\n",
              "      <th>Validation MSE</th>\n",
              "    </tr>\n",
              "  </thead>\n",
              "  <tbody>\n",
              "    <tr>\n",
              "      <th>Dummy</th>\n",
              "      <td>2</td>\n",
              "      <td>0.0121805</td>\n",
              "      <td>0.01219</td>\n",
              "    </tr>\n",
              "    <tr>\n",
              "      <th>Basic Linear</th>\n",
              "      <td>3</td>\n",
              "      <td>0.00739167</td>\n",
              "      <td>0.00756576</td>\n",
              "    </tr>\n",
              "    <tr>\n",
              "      <th>Multilevel linear</th>\n",
              "      <td>4</td>\n",
              "      <td>0.00333368</td>\n",
              "      <td>0.00346586</td>\n",
              "    </tr>\n",
              "    <tr>\n",
              "      <th>Multilevel poly</th>\n",
              "      <td>5</td>\n",
              "      <td>0.00262943</td>\n",
              "      <td>0.00279333</td>\n",
              "    </tr>\n",
              "  </tbody>\n",
              "</table>\n",
              "</div>"
            ],
            "text/plain": [
              "                  section   Train MSE Validation MSE\n",
              "Dummy                   2   0.0121805        0.01219\n",
              "Basic Linear            3  0.00739167     0.00756576\n",
              "Multilevel linear       4  0.00333368     0.00346586\n",
              "Multilevel poly         5  0.00262943     0.00279333"
            ]
          },
          "metadata": {
            "tags": []
          },
          "execution_count": 34
        }
      ]
    },
    {
      "cell_type": "markdown",
      "metadata": {
        "id": "vHoIPNxDFywn"
      },
      "source": [
        "# Section 6: Testing our models"
      ]
    },
    {
      "cell_type": "code",
      "metadata": {
        "colab": {
          "base_uri": "https://localhost:8080/",
          "height": 173
        },
        "id": "XiBoiElNVhsW",
        "outputId": "6713d1fa-3d8a-4b61-ec90-d8ad738ad57d"
      },
      "source": [
        "tmp_arr = [0,0,0,0]\n",
        "dummy_regressor.fit(train[features], train['VariantScore'])\n",
        "tmp_arr[0] = mean_squared_error(test['VariantScore'], dummy_regressor.predict(test[features]))\n",
        "\n",
        "ridge = Ridge(best_alpha)\n",
        "ridge.fit(train[features], train['VariantScore'])\n",
        "tmp_arr[1] = mean_squared_error(test['VariantScore'], ridge.predict(test[features]))\n",
        "\n",
        "multi.fit(train[features], train['VariantScore'])\n",
        "tmp_arr[2] = mean_squared_error(test['VariantScore'], multi.predict(test[features]))\n",
        "\n",
        "multi_polynomial.fit(train_quadratic[quad_features], train_quadratic['VariantScore'])\n",
        "tmp_arr[3] = mean_squared_error(test_quadratic['VariantScore'], multi_polynomial.predict(test_quadratic[quad_features]))\n",
        "\n",
        "errors_data2 = errors_data.copy()\n",
        "errors_data2['Test MSE'] = tmp_arr\n",
        "errors_data2"
      ],
      "execution_count": 35,
      "outputs": [
        {
          "output_type": "execute_result",
          "data": {
            "text/html": [
              "<div>\n",
              "<style scoped>\n",
              "    .dataframe tbody tr th:only-of-type {\n",
              "        vertical-align: middle;\n",
              "    }\n",
              "\n",
              "    .dataframe tbody tr th {\n",
              "        vertical-align: top;\n",
              "    }\n",
              "\n",
              "    .dataframe thead th {\n",
              "        text-align: right;\n",
              "    }\n",
              "</style>\n",
              "<table border=\"1\" class=\"dataframe\">\n",
              "  <thead>\n",
              "    <tr style=\"text-align: right;\">\n",
              "      <th></th>\n",
              "      <th>section</th>\n",
              "      <th>Train MSE</th>\n",
              "      <th>Validation MSE</th>\n",
              "      <th>Test MSE</th>\n",
              "    </tr>\n",
              "  </thead>\n",
              "  <tbody>\n",
              "    <tr>\n",
              "      <th>Dummy</th>\n",
              "      <td>2</td>\n",
              "      <td>0.0121805</td>\n",
              "      <td>0.01219</td>\n",
              "      <td>0.013121</td>\n",
              "    </tr>\n",
              "    <tr>\n",
              "      <th>Basic Linear</th>\n",
              "      <td>3</td>\n",
              "      <td>0.00739167</td>\n",
              "      <td>0.00756576</td>\n",
              "      <td>0.007342</td>\n",
              "    </tr>\n",
              "    <tr>\n",
              "      <th>Multilevel linear</th>\n",
              "      <td>4</td>\n",
              "      <td>0.00333368</td>\n",
              "      <td>0.00346586</td>\n",
              "      <td>0.003166</td>\n",
              "    </tr>\n",
              "    <tr>\n",
              "      <th>Multilevel poly</th>\n",
              "      <td>5</td>\n",
              "      <td>0.00262943</td>\n",
              "      <td>0.00279333</td>\n",
              "      <td>0.002459</td>\n",
              "    </tr>\n",
              "  </tbody>\n",
              "</table>\n",
              "</div>"
            ],
            "text/plain": [
              "                  section   Train MSE Validation MSE  Test MSE\n",
              "Dummy                   2   0.0121805        0.01219  0.013121\n",
              "Basic Linear            3  0.00739167     0.00756576  0.007342\n",
              "Multilevel linear       4  0.00333368     0.00346586  0.003166\n",
              "Multilevel poly         5  0.00262943     0.00279333  0.002459"
            ]
          },
          "metadata": {
            "tags": []
          },
          "execution_count": 35
        }
      ]
    },
    {
      "cell_type": "markdown",
      "metadata": {
        "id": "EnaDqsQNWdsQ"
      },
      "source": [
        "# Section 7: Custom models challenge"
      ]
    },
    {
      "cell_type": "code",
      "metadata": {
        "id": "L1gmGOOLuAjt"
      },
      "source": [
        "def get_top_feat(df, classifier_ctr, alpha, features_list):\n",
        "  clf = classifier_ctr(alpha)\n",
        "  clf.fit(df[features_list], df['VariantScore'])\n",
        "  #print('w = ',clf.coef_)\n",
        "\n",
        "  top_feat = pd.Series(clf.coef_, index = features_list)\n",
        "  top_feat = top_feat.apply(lambda x: x if x>0 else -x)\n",
        "  top_feat = top_feat.sort_values(axis=0)\n",
        "\n",
        "  # pd.Series(top_feat, index = features).nlargest(30).plot(kind='barh')\n",
        "  return top_feat, list(top_feat.keys())\n",
        "\n",
        "\n",
        "def tuning4 (df, classifier_ctr, features_list):\n",
        "  best_score = 100\n",
        "  best_alpha = -1000\n",
        "  for a in range(0,10000,25):\n",
        "    clf = classifier_ctr(alpha=a/1000)\n",
        "    ret = CV_evaluation(clf, df[features_list], df['VariantScore'])\n",
        "    # print(\"a: \" + str(a) + \", score: \" + str(ret[1]))\n",
        "    if ret[1] < best_score:\n",
        "      best_score = ret[1]\n",
        "      best_alpha = a/1000\n",
        "  print(\"best_score is: \" + str(best_score))\n",
        "  print(\"best_alpha is: \" + str(best_alpha))\n",
        "  return (best_score, best_alpha)\n",
        "\n",
        "\n",
        "def tuning_num_of_feat (df, classifier_ctr, alpha, features_list):\n",
        "  best_score = 100\n",
        "  best_n = 0\n",
        "  for n in range(5,len(features_list), 2):\n",
        "    select_feat = features_list[-1*n:]\n",
        "    clf = classifier_ctr(alpha)\n",
        "    ret = CV_evaluation(clf, df[select_feat], df['VariantScore'])\n",
        "    if ret[1] < best_score:\n",
        "      best_score = ret[1]\n",
        "      best_n = n\n",
        "  print(\"best_score is: \" + str(best_score))\n",
        "  print(\"best_n is: \" + str(best_n))\n",
        "  return (best_score, best_n)\n",
        "\n",
        "quad_features_no_sex = quad_features.copy()\n",
        "quad_features_no_sex.remove('Sex')\n",
        "quad_features_no_sex_no_blood = quad_features_no_sex.copy()\n",
        "quad_features_no_sex_no_blood.remove('BloodType')"
      ],
      "execution_count": 36,
      "outputs": []
    },
    {
      "cell_type": "code",
      "metadata": {
        "id": "shlysb4OAjdi"
      },
      "source": [
        "def build_clf(df, classifier_ctr, features_list):\n",
        "  best_multiExtra=0\n",
        "  feats = features_list\n",
        "  best_n_feat = 666\n",
        "\n",
        "  for i in range(1,4):\n",
        "    tmp, best_multiExtra = tuning4(df, classifier_ctr, feats[-1*best_n_feat:])\n",
        "    tmp, feats = get_top_feat(df, classifier_ctr, best_multiExtra, feats)\n",
        "    tmp, best_n_feat = tuning_num_of_feat(df, classifier_ctr, best_multiExtra, feats)\n",
        "\n",
        "  clf = classifier_ctr(best_multiExtra)\n",
        "  clf.fit(df[feats[-1*best_n_feat:]], df['VariantScore'])\n",
        "  return clf, feats[-1*best_n_feat:]"
      ],
      "execution_count": 37,
      "outputs": []
    },
    {
      "cell_type": "code",
      "metadata": {
        "id": "pwCrux2ZACNC",
        "colab": {
          "base_uri": "https://localhost:8080/"
        },
        "outputId": "6a863cbc-c22a-48dd-9c02-74714c8fdec5"
      },
      "source": [
        "df_m_b0 = quad_m[quad_m['BloodType'] == 0]\n",
        "df_m_b1 = quad_m[quad_m['BloodType'] == 1]\n",
        "df_f_b0 = quad_f[quad_f['BloodType'] == 0]\n",
        "df_f_b1 = quad_f[quad_f['BloodType'] == 1]\n",
        "\n",
        "clf_m_b0, clf_m_b0_feat = build_clf(df_m_b0, Ridge, quad_features_no_sex_no_blood)\n",
        "clf_m_b1, clf_m_b1_feat = build_clf(df_m_b1, Ridge, quad_features_no_sex_no_blood)\n",
        "clf_f_b0, clf_f_b0_feat = build_clf(df_f_b0, Ridge, quad_features_no_sex_no_blood)\n",
        "clf_f_b1, clf_f_b1_feat = build_clf(df_f_b1, Ridge, quad_features_no_sex_no_blood)"
      ],
      "execution_count": 38,
      "outputs": [
        {
          "output_type": "stream",
          "text": [
            "best_score is: 0.0023528268853961385\n",
            "best_alpha is: 0.025\n",
            "best_score is: 0.002243811974280723\n",
            "best_n is: 33\n",
            "best_score is: 0.002243811974280723\n",
            "best_alpha is: 0.025\n",
            "best_score is: 0.002243811974280723\n",
            "best_n is: 33\n",
            "best_score is: 0.002243811974280723\n",
            "best_alpha is: 0.025\n",
            "best_score is: 0.002243811974280723\n",
            "best_n is: 33\n",
            "best_score is: 0.004770275376827941\n",
            "best_alpha is: 0.075\n",
            "best_score is: 0.004613521150790292\n",
            "best_n is: 31\n",
            "best_score is: 0.004612499862263487\n",
            "best_alpha is: 0.05\n",
            "best_score is: 0.004636983106880871\n",
            "best_n is: 37\n",
            "best_score is: 0.004636430734328412\n",
            "best_alpha is: 0.025\n",
            "best_score is: 0.004622401424733683\n",
            "best_n is: 33\n",
            "best_score is: 0.001502768040397068\n",
            "best_alpha is: 0.05\n",
            "best_score is: 0.001431773489850589\n",
            "best_n is: 31\n",
            "best_score is: 0.0014299215693386834\n",
            "best_alpha is: 0.025\n",
            "best_score is: 0.0014391878658668064\n",
            "best_n is: 33\n",
            "best_score is: 0.0014391878658668064\n",
            "best_alpha is: 0.025\n",
            "best_score is: 0.0014391878658668064\n",
            "best_n is: 33\n",
            "best_score is: 0.0017831630941484856\n",
            "best_alpha is: 0.05\n",
            "best_score is: 0.0017224747056663367\n",
            "best_n is: 33\n",
            "best_score is: 0.0017224747056663367\n",
            "best_alpha is: 0.05\n",
            "best_score is: 0.0017224747056663367\n",
            "best_n is: 33\n",
            "best_score is: 0.0017224747056663367\n",
            "best_alpha is: 0.05\n",
            "best_score is: 0.0017224747056663367\n",
            "best_n is: 33\n"
          ],
          "name": "stdout"
        }
      ]
    },
    {
      "cell_type": "code",
      "metadata": {
        "colab": {
          "base_uri": "https://localhost:8080/"
        },
        "id": "FIPZnq4Q1h2b",
        "outputId": "074457fd-b602-4622-e73b-d66c7bbdb379"
      },
      "source": [
        "def custom_pred(X):\n",
        "  all_pred = []\n",
        "  for index, x in X.iterrows():\n",
        "    y_pred = 666\n",
        "    if x['Sex'] == 1:\n",
        "      if x['BloodType'] == 0:\n",
        "        y_pred = clf_m_b0.predict([x[clf_m_b0_feat]])\n",
        "      else:\n",
        "        y_pred = clf_m_b1.predict([x[clf_m_b1_feat]])\n",
        "    else:\n",
        "      if x['BloodType'] == 0:\n",
        "        y_pred = clf_f_b0.predict([x[clf_f_b0_feat]])\n",
        "      else:\n",
        "        y_pred = clf_f_b1.predict([x[clf_f_b1_feat]])\n",
        "    all_pred.append(y_pred[0])\n",
        "  return all_pred\n",
        "\n",
        "final_res = mean_squared_error(test_quadratic['VariantScore'], custom_pred(test_quadratic))\n",
        "print(final_res)"
      ],
      "execution_count": 39,
      "outputs": [
        {
          "output_type": "stream",
          "text": [
            "0.002373321689367933\n"
          ],
          "name": "stdout"
        }
      ]
    },
    {
      "cell_type": "code",
      "metadata": {
        "id": "zKs12M3y_n8r",
        "colab": {
          "base_uri": "https://localhost:8080/"
        },
        "outputId": "ea480ec9-477f-4685-a33e-c2bf25de937b"
      },
      "source": [
        "final_res = mean_squared_error(test_quadratic['VariantScore'], custom_pred(df_to_quad_df(test)))\n",
        "print(final_res)  # used as validation"
      ],
      "execution_count": 40,
      "outputs": [
        {
          "output_type": "stream",
          "text": [
            "0.002373321689367933\n"
          ],
          "name": "stdout"
        }
      ]
    },
    {
      "cell_type": "markdown",
      "metadata": {
        "id": "c34nSwM1Z1Sb"
      },
      "source": [
        "# Section 8: Submitted model predictions"
      ]
    },
    {
      "cell_type": "code",
      "metadata": {
        "id": "WJ341P1TZ6sC"
      },
      "source": [
        "unlabeled_raw = pd.read_csv('https://raw.githubusercontent.com/sivanyo/ML-HW3/main/variant_unlabeled.csv')\n",
        "# unlabeled_raw"
      ],
      "execution_count": 41,
      "outputs": []
    },
    {
      "cell_type": "code",
      "metadata": {
        "id": "v-rLWaBob6Xs"
      },
      "source": [
        "unlabeled = unlabeled_raw.copy()\n",
        "preprocessing_data(unlabeled)\n",
        "# unlabeled"
      ],
      "execution_count": 42,
      "outputs": []
    },
    {
      "cell_type": "code",
      "metadata": {
        "id": "vVVF1ZwThbfV"
      },
      "source": [
        "all_df = df_raw.copy()\n",
        "preprocessing_data(all_df) \n",
        "all_df_quad = df_to_quad_df(all_df)"
      ],
      "execution_count": 43,
      "outputs": []
    },
    {
      "cell_type": "code",
      "metadata": {
        "colab": {
          "base_uri": "https://localhost:8080/"
        },
        "id": "IcdbMwdt2RdI",
        "outputId": "5fcb48db-9c09-4f8d-fba1-840b951d8717"
      },
      "source": [
        "quad_all_m = all_df_quad[all_df_quad['Sex'] == 1]\n",
        "quad_all_f = all_df_quad[all_df_quad['Sex'] == 0]\n",
        "\n",
        "df_m_b0 = quad_all_m[quad_all_m['BloodType'] == 0]\n",
        "df_m_b1 = quad_all_m[quad_all_m['BloodType'] == 1]\n",
        "df_f_b0 = quad_all_f[quad_all_f['BloodType'] == 0]\n",
        "df_f_b1 = quad_all_f[quad_all_f['BloodType'] == 1]\n",
        "\n",
        "clf_m_b0, clf_m_b0_feat = build_clf(df_m_b0, Ridge, quad_features_no_sex_no_blood)\n",
        "clf_m_b1, clf_m_b1_feat = build_clf(df_m_b1, Ridge, quad_features_no_sex_no_blood)\n",
        "clf_f_b0, clf_f_b0_feat = build_clf(df_f_b0, Ridge, quad_features_no_sex_no_blood)\n",
        "clf_f_b1, clf_f_b1_feat = build_clf(df_f_b1, Ridge, quad_features_no_sex_no_blood)"
      ],
      "execution_count": 44,
      "outputs": [
        {
          "output_type": "stream",
          "text": [
            "best_score is: 0.0022949749320337535\n",
            "best_alpha is: 0.05\n",
            "best_score is: 0.002146857576256953\n",
            "best_n is: 15\n",
            "best_score is: 0.0021300694704987485\n",
            "best_alpha is: 0.0\n",
            "best_score is: 0.002183415921760066\n",
            "best_n is: 33\n",
            "best_score is: 0.002175956905111986\n",
            "best_alpha is: 0.025\n",
            "best_score is: 0.0021552485082246037\n",
            "best_n is: 15\n",
            "best_score is: 0.004621509734911519\n",
            "best_alpha is: 0.125\n",
            "best_score is: 0.004486560489923869\n",
            "best_n is: 27\n",
            "best_score is: 0.004481999495049185\n",
            "best_alpha is: 0.075\n",
            "best_score is: 0.004487492028838988\n",
            "best_n is: 29\n",
            "best_score is: 0.0044872172534046375\n",
            "best_alpha is: 0.05\n",
            "best_score is: 0.004501425010104398\n",
            "best_n is: 33\n",
            "best_score is: 0.001563353190056082\n",
            "best_alpha is: 0.1\n",
            "best_score is: 0.0015220574587977186\n",
            "best_n is: 31\n",
            "best_score is: 0.0015207692596644028\n",
            "best_alpha is: 0.075\n",
            "best_score is: 0.0015226963050810434\n",
            "best_n is: 31\n",
            "best_score is: 0.0015226963050810434\n",
            "best_alpha is: 0.075\n",
            "best_score is: 0.0015226963050810434\n",
            "best_n is: 31\n",
            "best_score is: 0.0015784706439413477\n",
            "best_alpha is: 0.025\n",
            "best_score is: 0.0015269249882117874\n",
            "best_n is: 33\n",
            "best_score is: 0.0015269249882117874\n",
            "best_alpha is: 0.025\n",
            "best_score is: 0.0015269249882117874\n",
            "best_n is: 33\n",
            "best_score is: 0.0015269249882117874\n",
            "best_alpha is: 0.025\n",
            "best_score is: 0.0015269249882117874\n",
            "best_n is: 33\n"
          ],
          "name": "stdout"
        }
      ]
    },
    {
      "cell_type": "code",
      "metadata": {
        "id": "XLdXXP4MbFvS",
        "colab": {
          "base_uri": "https://localhost:8080/",
          "height": 17
        },
        "outputId": "5f6e8c31-a447-4255-855a-f9206bb3495e"
      },
      "source": [
        "pred_unlabeled = pd.DataFrame(index=np.arange(unlabeled.shape[0]), columns = ['ID', 'VariantScore'])\n",
        "pred_unlabeled['ID'] = unlabeled['ID']\n",
        "unlabeled_quad = df_to_quad_df(unlabeled)\n",
        "\n",
        "\n",
        "ridge = Ridge(tuning(all_df, features, print_flag=False)[2])\n",
        "ridge.fit(all_df[features], all_df['VariantScore'])\n",
        "pred_unlabeled['VariantScore'] =  ridge.predict(unlabeled[features])\n",
        "pred_unlabeled.to_csv(\"pred_3.csv\", index=False)\n",
        "files.download(\"pred_3.csv\")\n",
        "\n",
        "\n",
        "multi = MultiRegressor(Ridge(best_alpha_m), Ridge(best_alpha_f))\n",
        "multi.fit(all_df[features], all_df['VariantScore'])\n",
        "pred_unlabeled['VariantScore'] =  multi.predict(unlabeled[features])\n",
        "pred_unlabeled.to_csv(\"pred_4.csv\", index=False)\n",
        "files.download(\"pred_4.csv\")\n",
        "\n",
        "\n",
        "multi_quad = MultiRegressor(Ridge(tuning(all_df_quad[all_df_quad['Sex'] == 1], features_list=quad_features, print_flag=False)[2]), Ridge(tuning(all_df_quad[all_df_quad['Sex'] == 0], print_flag=False, features_list=quad_features)[2]))\n",
        "multi_quad.fit(all_df_quad[quad_features], all_df_quad['VariantScore'])\n",
        "pred_unlabeled['VariantScore'] =  multi_quad.predict(unlabeled_quad[quad_features])\n",
        "pred_unlabeled.to_csv(\"pred_5.csv\", index=False)\n",
        "files.download(\"pred_5.csv\")\n",
        "\n",
        "\n",
        "pred_unlabeled['VariantScore'] = custom_pred(unlabeled_quad)\n",
        "pred_unlabeled.to_csv(\"pred_7.csv\", index=False)\n",
        "files.download(\"pred_7.csv\")"
      ],
      "execution_count": 45,
      "outputs": [
        {
          "output_type": "display_data",
          "data": {
            "application/javascript": [
              "\n",
              "    async function download(id, filename, size) {\n",
              "      if (!google.colab.kernel.accessAllowed) {\n",
              "        return;\n",
              "      }\n",
              "      const div = document.createElement('div');\n",
              "      const label = document.createElement('label');\n",
              "      label.textContent = `Downloading \"${filename}\": `;\n",
              "      div.appendChild(label);\n",
              "      const progress = document.createElement('progress');\n",
              "      progress.max = size;\n",
              "      div.appendChild(progress);\n",
              "      document.body.appendChild(div);\n",
              "\n",
              "      const buffers = [];\n",
              "      let downloaded = 0;\n",
              "\n",
              "      const channel = await google.colab.kernel.comms.open(id);\n",
              "      // Send a message to notify the kernel that we're ready.\n",
              "      channel.send({})\n",
              "\n",
              "      for await (const message of channel.messages) {\n",
              "        // Send a message to notify the kernel that we're ready.\n",
              "        channel.send({})\n",
              "        if (message.buffers) {\n",
              "          for (const buffer of message.buffers) {\n",
              "            buffers.push(buffer);\n",
              "            downloaded += buffer.byteLength;\n",
              "            progress.value = downloaded;\n",
              "          }\n",
              "        }\n",
              "      }\n",
              "      const blob = new Blob(buffers, {type: 'application/binary'});\n",
              "      const a = document.createElement('a');\n",
              "      a.href = window.URL.createObjectURL(blob);\n",
              "      a.download = filename;\n",
              "      div.appendChild(a);\n",
              "      a.click();\n",
              "      div.remove();\n",
              "    }\n",
              "  "
            ],
            "text/plain": [
              "<IPython.core.display.Javascript object>"
            ]
          },
          "metadata": {
            "tags": []
          }
        },
        {
          "output_type": "display_data",
          "data": {
            "application/javascript": [
              "download(\"download_d47fbb85-43db-44bd-b1f2-fc7fbe5f676e\", \"pred_3.csv\", 48582)"
            ],
            "text/plain": [
              "<IPython.core.display.Javascript object>"
            ]
          },
          "metadata": {
            "tags": []
          }
        },
        {
          "output_type": "display_data",
          "data": {
            "application/javascript": [
              "\n",
              "    async function download(id, filename, size) {\n",
              "      if (!google.colab.kernel.accessAllowed) {\n",
              "        return;\n",
              "      }\n",
              "      const div = document.createElement('div');\n",
              "      const label = document.createElement('label');\n",
              "      label.textContent = `Downloading \"${filename}\": `;\n",
              "      div.appendChild(label);\n",
              "      const progress = document.createElement('progress');\n",
              "      progress.max = size;\n",
              "      div.appendChild(progress);\n",
              "      document.body.appendChild(div);\n",
              "\n",
              "      const buffers = [];\n",
              "      let downloaded = 0;\n",
              "\n",
              "      const channel = await google.colab.kernel.comms.open(id);\n",
              "      // Send a message to notify the kernel that we're ready.\n",
              "      channel.send({})\n",
              "\n",
              "      for await (const message of channel.messages) {\n",
              "        // Send a message to notify the kernel that we're ready.\n",
              "        channel.send({})\n",
              "        if (message.buffers) {\n",
              "          for (const buffer of message.buffers) {\n",
              "            buffers.push(buffer);\n",
              "            downloaded += buffer.byteLength;\n",
              "            progress.value = downloaded;\n",
              "          }\n",
              "        }\n",
              "      }\n",
              "      const blob = new Blob(buffers, {type: 'application/binary'});\n",
              "      const a = document.createElement('a');\n",
              "      a.href = window.URL.createObjectURL(blob);\n",
              "      a.download = filename;\n",
              "      div.appendChild(a);\n",
              "      a.click();\n",
              "      div.remove();\n",
              "    }\n",
              "  "
            ],
            "text/plain": [
              "<IPython.core.display.Javascript object>"
            ]
          },
          "metadata": {
            "tags": []
          }
        },
        {
          "output_type": "display_data",
          "data": {
            "application/javascript": [
              "download(\"download_fefa0744-8d8c-48b9-9f2c-a403b20e13d9\", \"pred_4.csv\", 48737)"
            ],
            "text/plain": [
              "<IPython.core.display.Javascript object>"
            ]
          },
          "metadata": {
            "tags": []
          }
        },
        {
          "output_type": "display_data",
          "data": {
            "application/javascript": [
              "\n",
              "    async function download(id, filename, size) {\n",
              "      if (!google.colab.kernel.accessAllowed) {\n",
              "        return;\n",
              "      }\n",
              "      const div = document.createElement('div');\n",
              "      const label = document.createElement('label');\n",
              "      label.textContent = `Downloading \"${filename}\": `;\n",
              "      div.appendChild(label);\n",
              "      const progress = document.createElement('progress');\n",
              "      progress.max = size;\n",
              "      div.appendChild(progress);\n",
              "      document.body.appendChild(div);\n",
              "\n",
              "      const buffers = [];\n",
              "      let downloaded = 0;\n",
              "\n",
              "      const channel = await google.colab.kernel.comms.open(id);\n",
              "      // Send a message to notify the kernel that we're ready.\n",
              "      channel.send({})\n",
              "\n",
              "      for await (const message of channel.messages) {\n",
              "        // Send a message to notify the kernel that we're ready.\n",
              "        channel.send({})\n",
              "        if (message.buffers) {\n",
              "          for (const buffer of message.buffers) {\n",
              "            buffers.push(buffer);\n",
              "            downloaded += buffer.byteLength;\n",
              "            progress.value = downloaded;\n",
              "          }\n",
              "        }\n",
              "      }\n",
              "      const blob = new Blob(buffers, {type: 'application/binary'});\n",
              "      const a = document.createElement('a');\n",
              "      a.href = window.URL.createObjectURL(blob);\n",
              "      a.download = filename;\n",
              "      div.appendChild(a);\n",
              "      a.click();\n",
              "      div.remove();\n",
              "    }\n",
              "  "
            ],
            "text/plain": [
              "<IPython.core.display.Javascript object>"
            ]
          },
          "metadata": {
            "tags": []
          }
        },
        {
          "output_type": "display_data",
          "data": {
            "application/javascript": [
              "download(\"download_d4206329-3b33-4f30-960f-4909c6ff7cec\", \"pred_5.csv\", 48732)"
            ],
            "text/plain": [
              "<IPython.core.display.Javascript object>"
            ]
          },
          "metadata": {
            "tags": []
          }
        },
        {
          "output_type": "display_data",
          "data": {
            "application/javascript": [
              "\n",
              "    async function download(id, filename, size) {\n",
              "      if (!google.colab.kernel.accessAllowed) {\n",
              "        return;\n",
              "      }\n",
              "      const div = document.createElement('div');\n",
              "      const label = document.createElement('label');\n",
              "      label.textContent = `Downloading \"${filename}\": `;\n",
              "      div.appendChild(label);\n",
              "      const progress = document.createElement('progress');\n",
              "      progress.max = size;\n",
              "      div.appendChild(progress);\n",
              "      document.body.appendChild(div);\n",
              "\n",
              "      const buffers = [];\n",
              "      let downloaded = 0;\n",
              "\n",
              "      const channel = await google.colab.kernel.comms.open(id);\n",
              "      // Send a message to notify the kernel that we're ready.\n",
              "      channel.send({})\n",
              "\n",
              "      for await (const message of channel.messages) {\n",
              "        // Send a message to notify the kernel that we're ready.\n",
              "        channel.send({})\n",
              "        if (message.buffers) {\n",
              "          for (const buffer of message.buffers) {\n",
              "            buffers.push(buffer);\n",
              "            downloaded += buffer.byteLength;\n",
              "            progress.value = downloaded;\n",
              "          }\n",
              "        }\n",
              "      }\n",
              "      const blob = new Blob(buffers, {type: 'application/binary'});\n",
              "      const a = document.createElement('a');\n",
              "      a.href = window.URL.createObjectURL(blob);\n",
              "      a.download = filename;\n",
              "      div.appendChild(a);\n",
              "      a.click();\n",
              "      div.remove();\n",
              "    }\n",
              "  "
            ],
            "text/plain": [
              "<IPython.core.display.Javascript object>"
            ]
          },
          "metadata": {
            "tags": []
          }
        },
        {
          "output_type": "display_data",
          "data": {
            "application/javascript": [
              "download(\"download_1a65c34b-a6a2-4868-a331-674e96cdb182\", \"pred_7.csv\", 48771)"
            ],
            "text/plain": [
              "<IPython.core.display.Javascript object>"
            ]
          },
          "metadata": {
            "tags": []
          }
        }
      ]
    },
    {
      "cell_type": "markdown",
      "metadata": {
        "id": "2xgfjCrNq0qq"
      },
      "source": [
        "# טיוטה"
      ]
    },
    {
      "cell_type": "code",
      "metadata": {
        "id": "DysKL9XfIVtS"
      },
      "source": [
        "# # this is to make sure we predicing unlabeled as we want to (check by trying the same proccess on test)\n",
        "# unlabeled = test.copy()\n",
        "# unlabeled.drop('VariantScore', axis=1, inplace=True)\n",
        "# pred_unlabeled = pd.DataFrame(index=np.arange(unlabeled.shape[0]), columns = ['ID', 'VariantScore'])\n",
        "# pred_unlabeled['ID'] = unlabeled['ID']\n",
        "# unlabeled_quad = df_to_quad_df(unlabeled)\n",
        "\n",
        "# ridge = Ridge(tuning(all_df, features, print_flag=False)[2])\n",
        "# ridge.fit(all_df[features], all_df['VariantScore'])\n",
        "# pred_unlabeled['VariantScore'] =  ridge.predict(unlabeled[features])\n",
        "# pred_unlabeled.to_csv(\"pred_3.csv\", index=False)\n",
        "# # files.download(\"pred_3.csv\")\n",
        "# print(\"score3: \", mean_squared_error(pred_unlabeled['VariantScore'], test['VariantScore']))\n",
        "\n",
        "# multi = MultiRegressor(Ridge(best_alpha_m), Ridge(best_alpha_f))\n",
        "# multi.fit(all_df[features], all_df['VariantScore'])\n",
        "# pred_unlabeled['VariantScore'] =  multi.predict(unlabeled[features])\n",
        "# pred_unlabeled.to_csv(\"pred_4.csv\", index=False)\n",
        "# # files.download(\"pred_4.csv\")\n",
        "# print(\"score4: \", mean_squared_error(pred_unlabeled['VariantScore'], test['VariantScore']))\n",
        "\n",
        "# multi_quad = MultiRegressor(Ridge(tuning(all_df_quad[all_df_quad['Sex'] == 1], features_list=quad_features, print_flag=False)[2]), Ridge(tuning(all_df_quad[all_df_quad['Sex'] == 0], print_flag=False, features_list=quad_features)[2]))\n",
        "# multi_quad.fit(all_df_quad[quad_features], all_df_quad['VariantScore'])\n",
        "# pred_unlabeled['VariantScore'] =  multi_quad.predict(unlabeled_quad[quad_features])\n",
        "# pred_unlabeled.to_csv(\"pred_5.csv\", index=False)\n",
        "# # files.download(\"pred_5.csv\")\n",
        "# print(\"score5: \", mean_squared_error(pred_unlabeled['VariantScore'], test_quadratic['VariantScore']))\n",
        "\n",
        "# pred_unlabeled['VariantScore'] = custom_pred(unlabeled_quad)\n",
        "# pred_unlabeled.to_csv(\"pred_7.csv\", index=False)\n",
        "# # files.download(\"pred_7.csv\")\n",
        "# print(\"score7: \", mean_squared_error(pred_unlabeled['VariantScore'], test_quadratic['VariantScore']))\n"
      ],
      "execution_count": 46,
      "outputs": []
    }
  ]
}